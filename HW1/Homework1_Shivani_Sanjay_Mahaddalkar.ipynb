{
 "cells": [
  {
   "cell_type": "markdown",
   "metadata": {},
   "source": [
    "# Assignment 1: Text Mining"
   ]
  },
  {
   "cell_type": "markdown",
   "metadata": {},
   "source": [
    "**Introduction:**\n",
    "Happydb is a database 100,000+ crowd-sourced happy moments. In this analysis, we aim to find out whether people's relationships with other people played an important role in their happy moments and which specific relations do people tend to list while thinking of their happy moments.\n",
    "\n",
    "In this analysis, we find people-specific words from every happy moment. We do that by using a \"people dictionary\", a lexicon which lists different words which are used to describe different relationships"
   ]
  },
  {
   "cell_type": "markdown",
   "metadata": {},
   "source": [
    "Importing libraries:"
   ]
  },
  {
   "cell_type": "code",
   "execution_count": 1,
   "metadata": {},
   "outputs": [],
   "source": [
    "import pandas as pd\n",
    "import re"
   ]
  },
  {
   "cell_type": "markdown",
   "metadata": {},
   "source": [
    "Loading the happy moments dataset:"
   ]
  },
  {
   "cell_type": "code",
   "execution_count": 132,
   "metadata": {},
   "outputs": [
    {
     "data": {
      "text/html": [
       "<div>\n",
       "<style scoped>\n",
       "    .dataframe tbody tr th:only-of-type {\n",
       "        vertical-align: middle;\n",
       "    }\n",
       "\n",
       "    .dataframe tbody tr th {\n",
       "        vertical-align: top;\n",
       "    }\n",
       "\n",
       "    .dataframe thead th {\n",
       "        text-align: right;\n",
       "    }\n",
       "</style>\n",
       "<table border=\"1\" class=\"dataframe\">\n",
       "  <thead>\n",
       "    <tr style=\"text-align: right;\">\n",
       "      <th></th>\n",
       "      <th>hmid</th>\n",
       "      <th>wid</th>\n",
       "      <th>reflection_period</th>\n",
       "      <th>original_hm</th>\n",
       "      <th>cleaned_hm</th>\n",
       "      <th>modified</th>\n",
       "      <th>num_sentence</th>\n",
       "      <th>ground_truth_category</th>\n",
       "      <th>predicted_category</th>\n",
       "    </tr>\n",
       "  </thead>\n",
       "  <tbody>\n",
       "    <tr>\n",
       "      <th>0</th>\n",
       "      <td>27673</td>\n",
       "      <td>2053</td>\n",
       "      <td>24h</td>\n",
       "      <td>I went on a successful date with someone I fel...</td>\n",
       "      <td>I went on a successful date with someone I fel...</td>\n",
       "      <td>True</td>\n",
       "      <td>1</td>\n",
       "      <td>NaN</td>\n",
       "      <td>affection</td>\n",
       "    </tr>\n",
       "    <tr>\n",
       "      <th>1</th>\n",
       "      <td>27674</td>\n",
       "      <td>2</td>\n",
       "      <td>24h</td>\n",
       "      <td>I was happy when my son got 90% marks in his e...</td>\n",
       "      <td>I was happy when my son got 90% marks in his e...</td>\n",
       "      <td>True</td>\n",
       "      <td>1</td>\n",
       "      <td>NaN</td>\n",
       "      <td>affection</td>\n",
       "    </tr>\n",
       "    <tr>\n",
       "      <th>2</th>\n",
       "      <td>27675</td>\n",
       "      <td>1936</td>\n",
       "      <td>24h</td>\n",
       "      <td>I went to the gym this morning and did yoga.</td>\n",
       "      <td>I went to the gym this morning and did yoga.</td>\n",
       "      <td>True</td>\n",
       "      <td>1</td>\n",
       "      <td>NaN</td>\n",
       "      <td>exercise</td>\n",
       "    </tr>\n",
       "    <tr>\n",
       "      <th>3</th>\n",
       "      <td>27676</td>\n",
       "      <td>206</td>\n",
       "      <td>24h</td>\n",
       "      <td>We had a serious talk with some friends of our...</td>\n",
       "      <td>We had a serious talk with some friends of our...</td>\n",
       "      <td>True</td>\n",
       "      <td>2</td>\n",
       "      <td>bonding</td>\n",
       "      <td>bonding</td>\n",
       "    </tr>\n",
       "    <tr>\n",
       "      <th>4</th>\n",
       "      <td>27677</td>\n",
       "      <td>6227</td>\n",
       "      <td>24h</td>\n",
       "      <td>I went with grandchildren to butterfly display...</td>\n",
       "      <td>I went with grandchildren to butterfly display...</td>\n",
       "      <td>True</td>\n",
       "      <td>1</td>\n",
       "      <td>NaN</td>\n",
       "      <td>affection</td>\n",
       "    </tr>\n",
       "  </tbody>\n",
       "</table>\n",
       "</div>"
      ],
      "text/plain": [
       "    hmid   wid reflection_period  \\\n",
       "0  27673  2053               24h   \n",
       "1  27674     2               24h   \n",
       "2  27675  1936               24h   \n",
       "3  27676   206               24h   \n",
       "4  27677  6227               24h   \n",
       "\n",
       "                                         original_hm  \\\n",
       "0  I went on a successful date with someone I fel...   \n",
       "1  I was happy when my son got 90% marks in his e...   \n",
       "2       I went to the gym this morning and did yoga.   \n",
       "3  We had a serious talk with some friends of our...   \n",
       "4  I went with grandchildren to butterfly display...   \n",
       "\n",
       "                                          cleaned_hm  modified  num_sentence  \\\n",
       "0  I went on a successful date with someone I fel...      True             1   \n",
       "1  I was happy when my son got 90% marks in his e...      True             1   \n",
       "2       I went to the gym this morning and did yoga.      True             1   \n",
       "3  We had a serious talk with some friends of our...      True             2   \n",
       "4  I went with grandchildren to butterfly display...      True             1   \n",
       "\n",
       "  ground_truth_category predicted_category  \n",
       "0                   NaN          affection  \n",
       "1                   NaN          affection  \n",
       "2                   NaN           exercise  \n",
       "3               bonding            bonding  \n",
       "4                   NaN          affection  "
      ]
     },
     "execution_count": 132,
     "metadata": {},
     "output_type": "execute_result"
    }
   ],
   "source": [
    "happydb = pd.read_csv(\"happydb.csv\")\n",
    "happydb.head()"
   ]
  },
  {
   "cell_type": "markdown",
   "metadata": {},
   "source": [
    "Loading the people-dictionary and modifying it such that all the different relationships in the lexicon are elements in a list called 'lexicon'."
   ]
  },
  {
   "cell_type": "code",
   "execution_count": 133,
   "metadata": {},
   "outputs": [],
   "source": [
    "lexicon1 = open(\"people-dict.csv\")\n",
    "lexicon = []\n",
    "for word in lexicon1:\n",
    "    word = word.replace(\"\\n\", \"\")\n",
    "    lexicon.append(word)\n",
    "#print(lexicon)"
   ]
  },
  {
   "cell_type": "markdown",
   "metadata": {},
   "source": [
    "Searching through the lexicon in every happy moment to find whether the words in the lexicon are present. 'wordlist' is a list with all the words from the lexicon present in the happy moments:"
   ]
  },
  {
   "cell_type": "code",
   "execution_count": 136,
   "metadata": {},
   "outputs": [
    {
     "name": "stdout",
     "output_type": "stream",
     "text": [
      "35733\n"
     ]
    }
   ],
   "source": [
    "count = 0\n",
    "wordlist = []\n",
    "for line in happydb['cleaned_hm']:\n",
    "    for word in lexicon:\n",
    "        my_regex = r\".*\" + r\"\\s\" +word + r\"\\s\"+ r\".*\"\n",
    "        if re.search(my_regex, line):\n",
    "            count += 1\n",
    "            wordlist.append(word)\n",
    "            #print(word)\n",
    "            #print(line)\n",
    "            break\n",
    "print(count)"
   ]
  },
  {
   "cell_type": "markdown",
   "metadata": {},
   "source": [
    "Finding the proportion of people-specific happy moments with all the happy moments:"
   ]
  },
  {
   "cell_type": "code",
   "execution_count": 155,
   "metadata": {},
   "outputs": [
    {
     "name": "stdout",
     "output_type": "stream",
     "text": [
      "People mentioned other people in their happy moments 35.54% of the time\n"
     ]
    }
   ],
   "source": [
    "print(\"People mentioned other people in their happy moments \" + str(round((count/happydb.shape[0])*100,2))+ \"% of the time\")"
   ]
  },
  {
   "cell_type": "markdown",
   "metadata": {},
   "source": [
    "Duplicating 'wordlist': "
   ]
  },
  {
   "cell_type": "code",
   "execution_count": 156,
   "metadata": {},
   "outputs": [],
   "source": [
    "wordlist1 = wordlist"
   ]
  },
  {
   "cell_type": "markdown",
   "metadata": {},
   "source": [
    "Clubbing relations and different words used to describe the same relation in one category:"
   ]
  },
  {
   "cell_type": "code",
   "execution_count": 157,
   "metadata": {},
   "outputs": [],
   "source": [
    "wordlist1 = ['friend' if i in [\"best friend\", \"bestfriend\", \"bestfriends\", \"bestie\", \"besties\",\\\n",
    "                              \"bff\" , \"bffs\", \"buddies\", \"buddy\", \"close friend\", \"dudes\", \\\n",
    "                              \"friends\", \"friend\", \"good friend\", \"guy\", \"guys\", \"fellas\", \"fella\", \"bloke\",\\\n",
    "                               \"lad\", \"blokes\" , \"lads\", \"girlfriends\", \"boyfriends\", \"pals\"] else i for i in wordlist1]\n",
    "\n",
    "wordlist1 = ['spouse' if i in [\"fiance\", \"fiancee\", \"fiancée\", \"fiancé\", \"hubby\", \"husband\", \"wife\", \\\n",
    "                              \"ex-husband\", \"ex-wife\"] else i for i in wordlist1]\n",
    "\n",
    "wordlist1 = ['romantic partner' if i in [\"bae\", \"bf\", \"boyfriend\", \"ex-boyfriend\", \"ex-girlfriend\", \"my ex\", \"gf\",\\\n",
    "                                         \"girlfriend\", \"lover\", \"partner\", \"partners\",\\\n",
    "                                         \"love of my life\"] else i for i in wordlist1]\n",
    "\n",
    "wordlist1 = ['sibling' if i in [\"bro\", \"brother\", \"brothers\", \"elder brother\", \"older brother\",\\\n",
    "                               \"sister\", \"sisters\", \"sibling\", \"sis\", \"siblings\", \"twin brother\",\\\n",
    "                               \"sister-in-law\", \"sisters-in-law\", \"younger brother\", \\\n",
    "                                \"brother-in-law\"] else i for i in wordlist1]\n",
    "\n",
    "wordlist1 = ['kids' if i in [\"baby\", \"babies\",\"kids\", \"boy\", \"boys\", \"child\", \"children\", \"daughter\", \"daughters\",\\\n",
    "                                \"elder son\", \"eldest\", \"eldest son\", \"girl\", \"girls\", \"newborn\", \"newborns\",\\\n",
    "                            \"oldest son\", \"only son\", \"second son\", \"son\", \"sons\", \"stepson\", \\\n",
    "                             \"toddler\", \"toddlers\", \"only daughter\", \"eldest daughter\", \\\n",
    "                             \"youngest child\", \"youngest daughter\", \"eldest child\", \"kiddos\", \"kid\", \\\n",
    "                            \"stepdaughter\", \"daughter-in-law\", \"infant\", \"infants\", \"son-in-law\",\\\n",
    "                            \"younger son\", \"youngest son\", \"only child\"] else i for i in wordlist1]\n",
    "\n",
    "wordlist1 = ['parents' if i in [\"dad\", \"daddy\", \"dads\", \"father\", \"father-in-law\", \"folks\",\\\n",
    "                               \"mama\", \"mamma\", \"mom\", \"momma\", \"mommy\", \"moms\", \"mother\", \"mother-in-law\", \"mothers\",\\\n",
    "                                \"mum\", \"papa\", \"pappa\",\"parent\",\"parents\", \"step-father\",\\\n",
    "                                \"step-mother\", \"stepfather\", \"stepmother\", \"fathers\", \"stepdad\",\\\n",
    "                               \"mommies\", \"stepmom\", \"mummy\"] else i for i in wordlist1]\n",
    "\n",
    "wordlist1 = ['family' if i in [\"aunt\", \"auntie\", \"aunties\", \"aunts\", \"aunty\",\"cousin\", \"cousins\",\\\n",
    "                               \"neice\", \"nephew\", \"nephews\", \"niece\", \"nieces\", \"uncle\", \"uncles\", \"families\",\\\n",
    "                               \"family\", \"in-law\", \"in-laws\", \"inlaws\"] else i for i in wordlist1]\n",
    "\n",
    "wordlist1 = ['grandparents' if i in [\"grandfather\",\"grandfathers\",\"grandma\",\"grandmas\",\"grandmother\",\\\n",
    "                                     \"grandmothers\",\"grandpa\",\"grandparents\", \"grannies\", \"granny\"] else i for i in wordlist1]\n",
    "\n",
    "wordlist1 = ['great-grandparents' if i in [\"great-grandfather\", \"great-grandmother\", \\\n",
    "                                           \"great-grandparents\"] else i for i in wordlist1]\n",
    "\n",
    "wordlist1 = ['grandkids' if i in [\"grand-daughter\", \"grandaughter\", \"grandchild\", \"grandchildren\",\\\n",
    "                                  \"granddaughter\", \"granddaughters\", \"grandson\", \"grandsons\"] else i for i in wordlist1]\n",
    "\n",
    "wordlist1 = ['great-grandkids' if i in [\"great-grandson\", \"great-grandchildren\", \\\n",
    "                                           \"great-granddaughter\"] else i for i in wordlist1]"
   ]
  },
  {
   "cell_type": "code",
   "execution_count": 158,
   "metadata": {},
   "outputs": [],
   "source": [
    "from pandas import DataFrame\n",
    "peopledf = DataFrame(wordlist, columns=['Relation'])\n",
    "peopledf1 = DataFrame(wordlist1, columns=['Relation'])"
   ]
  },
  {
   "cell_type": "markdown",
   "metadata": {},
   "source": [
    "Creating a data frame with all the words from the lexicon present in the happy moments and their frequency:"
   ]
  },
  {
   "cell_type": "code",
   "execution_count": 159,
   "metadata": {},
   "outputs": [],
   "source": [
    "frequencydf1 = DataFrame(peopledf1['Relation'].value_counts().reset_index())\n",
    "frequencydf1 = frequencydf1.rename(columns = {'index': 'Relationship', 'Relation': 'Frequency_Count'})"
   ]
  },
  {
   "cell_type": "markdown",
   "metadata": {},
   "source": [
    "Creating a bar graph of frequency of relationship caregory:"
   ]
  },
  {
   "cell_type": "code",
   "execution_count": 160,
   "metadata": {},
   "outputs": [
    {
     "data": {
      "text/plain": [
       "<AxesSubplot:xlabel='Relationship'>"
      ]
     },
     "execution_count": 160,
     "metadata": {},
     "output_type": "execute_result"
    },
    {
     "data": {
      "image/png": "[encoded data removed]",
      "text/plain": [
       "<Figure size 432x288 with 1 Axes>"
      ]
     },
     "metadata": {
      "needs_background": "light"
     },
     "output_type": "display_data"
    }
   ],
   "source": [
    "frequencydf1.head(10).plot.bar(x='Relationship', y='Frequency_Count', rot=45)"
   ]
  },
  {
   "cell_type": "code",
   "execution_count": 166,
   "metadata": {},
   "outputs": [
    {
     "data": {
      "text/html": [
       "<div>\n",
       "<style scoped>\n",
       "    .dataframe tbody tr th:only-of-type {\n",
       "        vertical-align: middle;\n",
       "    }\n",
       "\n",
       "    .dataframe tbody tr th {\n",
       "        vertical-align: top;\n",
       "    }\n",
       "\n",
       "    .dataframe thead th {\n",
       "        text-align: right;\n",
       "    }\n",
       "</style>\n",
       "<table border=\"1\" class=\"dataframe\">\n",
       "  <thead>\n",
       "    <tr style=\"text-align: right;\">\n",
       "      <th></th>\n",
       "      <th>Relationship</th>\n",
       "      <th>Frequency_Count</th>\n",
       "      <th>Percent_frequency</th>\n",
       "    </tr>\n",
       "  </thead>\n",
       "  <tbody>\n",
       "    <tr>\n",
       "      <th>0</th>\n",
       "      <td>kids</td>\n",
       "      <td>8105</td>\n",
       "      <td>22.682115</td>\n",
       "    </tr>\n",
       "    <tr>\n",
       "      <th>1</th>\n",
       "      <td>friend</td>\n",
       "      <td>6716</td>\n",
       "      <td>18.794951</td>\n",
       "    </tr>\n",
       "    <tr>\n",
       "      <th>2</th>\n",
       "      <td>spouse</td>\n",
       "      <td>3973</td>\n",
       "      <td>11.118574</td>\n",
       "    </tr>\n",
       "    <tr>\n",
       "      <th>3</th>\n",
       "      <td>family</td>\n",
       "      <td>3681</td>\n",
       "      <td>10.301402</td>\n",
       "    </tr>\n",
       "    <tr>\n",
       "      <th>4</th>\n",
       "      <td>parents</td>\n",
       "      <td>3189</td>\n",
       "      <td>8.924524</td>\n",
       "    </tr>\n",
       "    <tr>\n",
       "      <th>5</th>\n",
       "      <td>romantic partner</td>\n",
       "      <td>2646</td>\n",
       "      <td>7.404920</td>\n",
       "    </tr>\n",
       "    <tr>\n",
       "      <th>6</th>\n",
       "      <td>sibling</td>\n",
       "      <td>1857</td>\n",
       "      <td>5.196877</td>\n",
       "    </tr>\n",
       "    <tr>\n",
       "      <th>7</th>\n",
       "      <td>people</td>\n",
       "      <td>666</td>\n",
       "      <td>1.863823</td>\n",
       "    </tr>\n",
       "    <tr>\n",
       "      <th>8</th>\n",
       "      <td>them</td>\n",
       "      <td>633</td>\n",
       "      <td>1.771472</td>\n",
       "    </tr>\n",
       "    <tr>\n",
       "      <th>9</th>\n",
       "      <td>someone</td>\n",
       "      <td>432</td>\n",
       "      <td>1.208967</td>\n",
       "    </tr>\n",
       "  </tbody>\n",
       "</table>\n",
       "</div>"
      ],
      "text/plain": [
       "       Relationship  Frequency_Count  Percent_frequency\n",
       "0              kids             8105          22.682115\n",
       "1            friend             6716          18.794951\n",
       "2            spouse             3973          11.118574\n",
       "3            family             3681          10.301402\n",
       "4           parents             3189           8.924524\n",
       "5  romantic partner             2646           7.404920\n",
       "6           sibling             1857           5.196877\n",
       "7            people              666           1.863823\n",
       "8              them              633           1.771472\n",
       "9           someone              432           1.208967"
      ]
     },
     "execution_count": 166,
     "metadata": {},
     "output_type": "execute_result"
    }
   ],
   "source": [
    "frequencydf1['Percent_frequency'] = (frequencydf1['Frequency_Count']/count)*100\n",
    "frequencydf1.head(10)"
   ]
  },
  {
   "cell_type": "markdown",
   "metadata": {},
   "source": [
    "**Results:**\n",
    "In all of the happy moments, different relations were mentioned around 35% of the time.\n",
    "\n",
    "Of the total moments were mentioned, people mentioned their kids 22.68% of the time or 8105 times. The relation that was prominent after was that of a friend. It was mentioned 6716 times or 18.79% of the time. Spouse was followed with a mention of 11.19% of the times or 3973 times. \n",
    "\n",
    "It can be seen that people consider significant relations in their life pretty close to their heart and think of their immediate or extended family or friends in their happy moments.\n",
    "\n"
   ]
  },
  {
   "cell_type": "markdown",
   "metadata": {},
   "source": [
    "**Learnings:**\n",
    "*In this code, I chose to include a break statement in the innermost loop. My code right now picks the first word from the lexicon that is present in the happy moment and exits the loop. I did it because of memory issues. Since it is a huge data set, looping without a break statement was causing memory errors. It is possible that a person's happy moment includes more than one relation, however I was not able to encapsulate that.*"
   ]
  }
 ],
 "metadata": {
  "kernelspec": {
   "display_name": "Python 3",
   "language": "python",
   "name": "python3"
  },
  "language_info": {
   "codemirror_mode": {
    "name": "ipython",
    "version": 3
   },
   "file_extension": ".py",
   "mimetype": "text/x-python",
   "name": "python",
   "nbconvert_exporter": "python",
   "pygments_lexer": "ipython3",
   "version": "3.8.5"
  }
 },
 "nbformat": 4,
 "nbformat_minor": 4
}
