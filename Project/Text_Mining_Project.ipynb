{
 "cells": [
  {
   "cell_type": "markdown",
   "metadata": {},
   "source": [
    "# Fake News Detection\n"
   ]
  },
  {
   "cell_type": "markdown",
   "metadata": {},
   "source": [
    "Importing necessary libraries"
   ]
  },
  {
   "cell_type": "code",
   "execution_count": 81,
   "metadata": {},
   "outputs": [],
   "source": [
    "import numpy as np\n",
    "import pandas as p\n",
    "from sklearn.pipeline import Pipeline\n",
    "from sklearn.model_selection import cross_val_score\n",
    "from sklearn.naive_bayes import MultinomialNB\n",
    "from sklearn.svm import LinearSVC\n",
    "from sklearn.feature_extraction.text import CountVectorizer\n",
    "from sklearn.feature_extraction.text import TfidfVectorizer"
   ]
  },
  {
   "cell_type": "markdown",
   "metadata": {},
   "source": [
    "Importing the data from the fake and real csv"
   ]
  },
  {
   "cell_type": "code",
   "execution_count": 82,
   "metadata": {},
   "outputs": [],
   "source": [
    "df1=p.read_csv(\"Fake.csv\")\n",
    "df1['label']=0\n",
    "df2 =p.read_csv(\"True.csv\")\n",
    "df2['label']=1"
   ]
  },
  {
   "cell_type": "markdown",
   "metadata": {},
   "source": [
    "Merging the two data frames"
   ]
  },
  {
   "cell_type": "code",
   "execution_count": 83,
   "metadata": {},
   "outputs": [],
   "source": [
    "df = p.concat([df1, df2])"
   ]
  },
  {
   "cell_type": "code",
   "execution_count": 84,
   "metadata": {},
   "outputs": [
    {
     "data": {
      "text/html": [
       "<div>\n",
       "<style scoped>\n",
       "    .dataframe tbody tr th:only-of-type {\n",
       "        vertical-align: middle;\n",
       "    }\n",
       "\n",
       "    .dataframe tbody tr th {\n",
       "        vertical-align: top;\n",
       "    }\n",
       "\n",
       "    .dataframe thead th {\n",
       "        text-align: right;\n",
       "    }\n",
       "</style>\n",
       "<table border=\"1\" class=\"dataframe\">\n",
       "  <thead>\n",
       "    <tr style=\"text-align: right;\">\n",
       "      <th></th>\n",
       "      <th>title</th>\n",
       "      <th>text</th>\n",
       "      <th>subject</th>\n",
       "      <th>date</th>\n",
       "      <th>label</th>\n",
       "    </tr>\n",
       "  </thead>\n",
       "  <tbody>\n",
       "    <tr>\n",
       "      <th>0</th>\n",
       "      <td>Donald Trump Sends Out Embarrassing New Year’...</td>\n",
       "      <td>Donald Trump just couldn t wish all Americans ...</td>\n",
       "      <td>News</td>\n",
       "      <td>December 31, 2017</td>\n",
       "      <td>0</td>\n",
       "    </tr>\n",
       "    <tr>\n",
       "      <th>1</th>\n",
       "      <td>Drunk Bragging Trump Staffer Started Russian ...</td>\n",
       "      <td>House Intelligence Committee Chairman Devin Nu...</td>\n",
       "      <td>News</td>\n",
       "      <td>December 31, 2017</td>\n",
       "      <td>0</td>\n",
       "    </tr>\n",
       "    <tr>\n",
       "      <th>2</th>\n",
       "      <td>Sheriff David Clarke Becomes An Internet Joke...</td>\n",
       "      <td>On Friday, it was revealed that former Milwauk...</td>\n",
       "      <td>News</td>\n",
       "      <td>December 30, 2017</td>\n",
       "      <td>0</td>\n",
       "    </tr>\n",
       "    <tr>\n",
       "      <th>3</th>\n",
       "      <td>Trump Is So Obsessed He Even Has Obama’s Name...</td>\n",
       "      <td>On Christmas day, Donald Trump announced that ...</td>\n",
       "      <td>News</td>\n",
       "      <td>December 29, 2017</td>\n",
       "      <td>0</td>\n",
       "    </tr>\n",
       "    <tr>\n",
       "      <th>4</th>\n",
       "      <td>Pope Francis Just Called Out Donald Trump Dur...</td>\n",
       "      <td>Pope Francis used his annual Christmas Day mes...</td>\n",
       "      <td>News</td>\n",
       "      <td>December 25, 2017</td>\n",
       "      <td>0</td>\n",
       "    </tr>\n",
       "    <tr>\n",
       "      <th>...</th>\n",
       "      <td>...</td>\n",
       "      <td>...</td>\n",
       "      <td>...</td>\n",
       "      <td>...</td>\n",
       "      <td>...</td>\n",
       "    </tr>\n",
       "    <tr>\n",
       "      <th>21412</th>\n",
       "      <td>'Fully committed' NATO backs new U.S. approach...</td>\n",
       "      <td>BRUSSELS (Reuters) - NATO allies on Tuesday we...</td>\n",
       "      <td>worldnews</td>\n",
       "      <td>August 22, 2017</td>\n",
       "      <td>1</td>\n",
       "    </tr>\n",
       "    <tr>\n",
       "      <th>21413</th>\n",
       "      <td>LexisNexis withdrew two products from Chinese ...</td>\n",
       "      <td>LONDON (Reuters) - LexisNexis, a provider of l...</td>\n",
       "      <td>worldnews</td>\n",
       "      <td>August 22, 2017</td>\n",
       "      <td>1</td>\n",
       "    </tr>\n",
       "    <tr>\n",
       "      <th>21414</th>\n",
       "      <td>Minsk cultural hub becomes haven from authorities</td>\n",
       "      <td>MINSK (Reuters) - In the shadow of disused Sov...</td>\n",
       "      <td>worldnews</td>\n",
       "      <td>August 22, 2017</td>\n",
       "      <td>1</td>\n",
       "    </tr>\n",
       "    <tr>\n",
       "      <th>21415</th>\n",
       "      <td>Vatican upbeat on possibility of Pope Francis ...</td>\n",
       "      <td>MOSCOW (Reuters) - Vatican Secretary of State ...</td>\n",
       "      <td>worldnews</td>\n",
       "      <td>August 22, 2017</td>\n",
       "      <td>1</td>\n",
       "    </tr>\n",
       "    <tr>\n",
       "      <th>21416</th>\n",
       "      <td>Indonesia to buy $1.14 billion worth of Russia...</td>\n",
       "      <td>JAKARTA (Reuters) - Indonesia will buy 11 Sukh...</td>\n",
       "      <td>worldnews</td>\n",
       "      <td>August 22, 2017</td>\n",
       "      <td>1</td>\n",
       "    </tr>\n",
       "  </tbody>\n",
       "</table>\n",
       "<p>44898 rows × 5 columns</p>\n",
       "</div>"
      ],
      "text/plain": [
       "                                                   title  \\\n",
       "0       Donald Trump Sends Out Embarrassing New Year’...   \n",
       "1       Drunk Bragging Trump Staffer Started Russian ...   \n",
       "2       Sheriff David Clarke Becomes An Internet Joke...   \n",
       "3       Trump Is So Obsessed He Even Has Obama’s Name...   \n",
       "4       Pope Francis Just Called Out Donald Trump Dur...   \n",
       "...                                                  ...   \n",
       "21412  'Fully committed' NATO backs new U.S. approach...   \n",
       "21413  LexisNexis withdrew two products from Chinese ...   \n",
       "21414  Minsk cultural hub becomes haven from authorities   \n",
       "21415  Vatican upbeat on possibility of Pope Francis ...   \n",
       "21416  Indonesia to buy $1.14 billion worth of Russia...   \n",
       "\n",
       "                                                    text    subject  \\\n",
       "0      Donald Trump just couldn t wish all Americans ...       News   \n",
       "1      House Intelligence Committee Chairman Devin Nu...       News   \n",
       "2      On Friday, it was revealed that former Milwauk...       News   \n",
       "3      On Christmas day, Donald Trump announced that ...       News   \n",
       "4      Pope Francis used his annual Christmas Day mes...       News   \n",
       "...                                                  ...        ...   \n",
       "21412  BRUSSELS (Reuters) - NATO allies on Tuesday we...  worldnews   \n",
       "21413  LONDON (Reuters) - LexisNexis, a provider of l...  worldnews   \n",
       "21414  MINSK (Reuters) - In the shadow of disused Sov...  worldnews   \n",
       "21415  MOSCOW (Reuters) - Vatican Secretary of State ...  worldnews   \n",
       "21416  JAKARTA (Reuters) - Indonesia will buy 11 Sukh...  worldnews   \n",
       "\n",
       "                    date  label  \n",
       "0      December 31, 2017      0  \n",
       "1      December 31, 2017      0  \n",
       "2      December 30, 2017      0  \n",
       "3      December 29, 2017      0  \n",
       "4      December 25, 2017      0  \n",
       "...                  ...    ...  \n",
       "21412   August 22, 2017       1  \n",
       "21413   August 22, 2017       1  \n",
       "21414   August 22, 2017       1  \n",
       "21415   August 22, 2017       1  \n",
       "21416   August 22, 2017       1  \n",
       "\n",
       "[44898 rows x 5 columns]"
      ]
     },
     "execution_count": 84,
     "metadata": {},
     "output_type": "execute_result"
    }
   ],
   "source": [
    "df"
   ]
  },
  {
   "cell_type": "code",
   "execution_count": 115,
   "metadata": {},
   "outputs": [
    {
     "name": "stdout",
     "output_type": "stream",
     "text": [
      "0    23481\n",
      "1    21417\n",
      "Name: label, dtype: int64\n"
     ]
    },
    {
     "data": {
      "text/plain": [
       "<AxesSubplot:xlabel='label', ylabel='count'>"
      ]
     },
     "execution_count": 115,
     "metadata": {},
     "output_type": "execute_result"
    },
    {
     "data": {
      "image/png": "[encoded data removed]",
      "text/plain": [
       "<Figure size 432x288 with 1 Axes>"
      ]
     },
     "metadata": {
      "needs_background": "light"
     },
     "output_type": "display_data"
    }
   ],
   "source": [
    "import seaborn as sns\n",
    "print(df['label'].value_counts())\n",
    "\n",
    "sns.countplot(x='label',data=df)"
   ]
  },
  {
   "cell_type": "markdown",
   "metadata": {},
   "source": [
    "Data Preprocessing"
   ]
  },
  {
   "cell_type": "code",
   "execution_count": 85,
   "metadata": {},
   "outputs": [],
   "source": [
    "#Removing the news source and the location at the beginning of news articles\n",
    "def split_news(text):\n",
    "    if '(Reuters)' in text:\n",
    "        text = text.split('(Reuters)')\n",
    "\n",
    "        return ' '.join(text[1:])\n",
    "    return text\n",
    "\n",
    "df['text'] = df['text'].apply(split_news)"
   ]
  },
  {
   "cell_type": "code",
   "execution_count": 86,
   "metadata": {},
   "outputs": [],
   "source": [
    "#Converting the string to lowercase\n",
    "df['title'] = df['title'].str.lower()\n",
    "df['text'] = df['text'].str.lower()"
   ]
  },
  {
   "cell_type": "code",
   "execution_count": 87,
   "metadata": {},
   "outputs": [
    {
     "data": {
      "text/html": [
       "<div>\n",
       "<style scoped>\n",
       "    .dataframe tbody tr th:only-of-type {\n",
       "        vertical-align: middle;\n",
       "    }\n",
       "\n",
       "    .dataframe tbody tr th {\n",
       "        vertical-align: top;\n",
       "    }\n",
       "\n",
       "    .dataframe thead th {\n",
       "        text-align: right;\n",
       "    }\n",
       "</style>\n",
       "<table border=\"1\" class=\"dataframe\">\n",
       "  <thead>\n",
       "    <tr style=\"text-align: right;\">\n",
       "      <th></th>\n",
       "      <th>title</th>\n",
       "      <th>text</th>\n",
       "      <th>subject</th>\n",
       "      <th>date</th>\n",
       "      <th>label</th>\n",
       "    </tr>\n",
       "  </thead>\n",
       "  <tbody>\n",
       "    <tr>\n",
       "      <th>0</th>\n",
       "      <td>donald trump sends out embarrassing new year’...</td>\n",
       "      <td>donald trump just couldn t wish all americans ...</td>\n",
       "      <td>News</td>\n",
       "      <td>December 31, 2017</td>\n",
       "      <td>0</td>\n",
       "    </tr>\n",
       "    <tr>\n",
       "      <th>1</th>\n",
       "      <td>drunk bragging trump staffer started russian ...</td>\n",
       "      <td>house intelligence committee chairman devin nu...</td>\n",
       "      <td>News</td>\n",
       "      <td>December 31, 2017</td>\n",
       "      <td>0</td>\n",
       "    </tr>\n",
       "    <tr>\n",
       "      <th>2</th>\n",
       "      <td>sheriff david clarke becomes an internet joke...</td>\n",
       "      <td>on friday, it was revealed that former milwauk...</td>\n",
       "      <td>News</td>\n",
       "      <td>December 30, 2017</td>\n",
       "      <td>0</td>\n",
       "    </tr>\n",
       "    <tr>\n",
       "      <th>3</th>\n",
       "      <td>trump is so obsessed he even has obama’s name...</td>\n",
       "      <td>on christmas day, donald trump announced that ...</td>\n",
       "      <td>News</td>\n",
       "      <td>December 29, 2017</td>\n",
       "      <td>0</td>\n",
       "    </tr>\n",
       "    <tr>\n",
       "      <th>4</th>\n",
       "      <td>pope francis just called out donald trump dur...</td>\n",
       "      <td>pope francis used his annual christmas day mes...</td>\n",
       "      <td>News</td>\n",
       "      <td>December 25, 2017</td>\n",
       "      <td>0</td>\n",
       "    </tr>\n",
       "    <tr>\n",
       "      <th>...</th>\n",
       "      <td>...</td>\n",
       "      <td>...</td>\n",
       "      <td>...</td>\n",
       "      <td>...</td>\n",
       "      <td>...</td>\n",
       "    </tr>\n",
       "    <tr>\n",
       "      <th>21412</th>\n",
       "      <td>'fully committed' nato backs new u.s. approach...</td>\n",
       "      <td>- nato allies on tuesday welcomed president d...</td>\n",
       "      <td>worldnews</td>\n",
       "      <td>August 22, 2017</td>\n",
       "      <td>1</td>\n",
       "    </tr>\n",
       "    <tr>\n",
       "      <th>21413</th>\n",
       "      <td>lexisnexis withdrew two products from chinese ...</td>\n",
       "      <td>- lexisnexis, a provider of legal, regulatory...</td>\n",
       "      <td>worldnews</td>\n",
       "      <td>August 22, 2017</td>\n",
       "      <td>1</td>\n",
       "    </tr>\n",
       "    <tr>\n",
       "      <th>21414</th>\n",
       "      <td>minsk cultural hub becomes haven from authorities</td>\n",
       "      <td>- in the shadow of disused soviet-era factori...</td>\n",
       "      <td>worldnews</td>\n",
       "      <td>August 22, 2017</td>\n",
       "      <td>1</td>\n",
       "    </tr>\n",
       "    <tr>\n",
       "      <th>21415</th>\n",
       "      <td>vatican upbeat on possibility of pope francis ...</td>\n",
       "      <td>- vatican secretary of state cardinal pietro ...</td>\n",
       "      <td>worldnews</td>\n",
       "      <td>August 22, 2017</td>\n",
       "      <td>1</td>\n",
       "    </tr>\n",
       "    <tr>\n",
       "      <th>21416</th>\n",
       "      <td>indonesia to buy $1.14 billion worth of russia...</td>\n",
       "      <td>- indonesia will buy 11 sukhoi fighter jets w...</td>\n",
       "      <td>worldnews</td>\n",
       "      <td>August 22, 2017</td>\n",
       "      <td>1</td>\n",
       "    </tr>\n",
       "  </tbody>\n",
       "</table>\n",
       "<p>44898 rows × 5 columns</p>\n",
       "</div>"
      ],
      "text/plain": [
       "                                                   title  \\\n",
       "0       donald trump sends out embarrassing new year’...   \n",
       "1       drunk bragging trump staffer started russian ...   \n",
       "2       sheriff david clarke becomes an internet joke...   \n",
       "3       trump is so obsessed he even has obama’s name...   \n",
       "4       pope francis just called out donald trump dur...   \n",
       "...                                                  ...   \n",
       "21412  'fully committed' nato backs new u.s. approach...   \n",
       "21413  lexisnexis withdrew two products from chinese ...   \n",
       "21414  minsk cultural hub becomes haven from authorities   \n",
       "21415  vatican upbeat on possibility of pope francis ...   \n",
       "21416  indonesia to buy $1.14 billion worth of russia...   \n",
       "\n",
       "                                                    text    subject  \\\n",
       "0      donald trump just couldn t wish all americans ...       News   \n",
       "1      house intelligence committee chairman devin nu...       News   \n",
       "2      on friday, it was revealed that former milwauk...       News   \n",
       "3      on christmas day, donald trump announced that ...       News   \n",
       "4      pope francis used his annual christmas day mes...       News   \n",
       "...                                                  ...        ...   \n",
       "21412   - nato allies on tuesday welcomed president d...  worldnews   \n",
       "21413   - lexisnexis, a provider of legal, regulatory...  worldnews   \n",
       "21414   - in the shadow of disused soviet-era factori...  worldnews   \n",
       "21415   - vatican secretary of state cardinal pietro ...  worldnews   \n",
       "21416   - indonesia will buy 11 sukhoi fighter jets w...  worldnews   \n",
       "\n",
       "                    date  label  \n",
       "0      December 31, 2017      0  \n",
       "1      December 31, 2017      0  \n",
       "2      December 30, 2017      0  \n",
       "3      December 29, 2017      0  \n",
       "4      December 25, 2017      0  \n",
       "...                  ...    ...  \n",
       "21412   August 22, 2017       1  \n",
       "21413   August 22, 2017       1  \n",
       "21414   August 22, 2017       1  \n",
       "21415   August 22, 2017       1  \n",
       "21416   August 22, 2017       1  \n",
       "\n",
       "[44898 rows x 5 columns]"
      ]
     },
     "execution_count": 87,
     "metadata": {},
     "output_type": "execute_result"
    }
   ],
   "source": [
    "df"
   ]
  },
  {
   "cell_type": "code",
   "execution_count": 88,
   "metadata": {},
   "outputs": [],
   "source": [
    "#Removing non-alphabetical characters\n",
    "df['title'] = df['title'].str.replace('[^a-zA-Z]', ' ', regex=True).str.strip()\n",
    "df['text'] = df['text'].str.replace('[^a-zA-Z]', ' ', regex=True).str.strip()"
   ]
  },
  {
   "cell_type": "code",
   "execution_count": 91,
   "metadata": {},
   "outputs": [],
   "source": [
    "X = df['title']\n",
    "X1 = df['text']\n",
    "y = df['label']"
   ]
  },
  {
   "cell_type": "markdown",
   "metadata": {},
   "source": [
    "Comparing 5 fold cross validation scores for MNB and SVM for both title and text of the articles"
   ]
  },
  {
   "cell_type": "code",
   "execution_count": 12,
   "metadata": {
    "scrolled": true
   },
   "outputs": [
    {
     "name": "stdout",
     "output_type": "stream",
     "text": [
      "0.911444923083334\n",
      "0.9127367619223374\n",
      "0.9163670737784353\n"
     ]
    }
   ],
   "source": [
    "#Vectorizers for MNB for title\n",
    "\n",
    "##MNB TFIDF\n",
    "mNB_tfidf_pipe = Pipeline([('nb_tf',TfidfVectorizer(encoding='latin-1',use_idf=True,binary=False, stop_words='english')),('nb',MultinomialNB())])\n",
    "scores = cross_val_score(mNB_tfidf_pipe,X,y,cv=5)\n",
    "print(sum(scores)/len(scores))\n",
    "\n",
    "##MNB TF\n",
    "mNB_tf_pipe = Pipeline([('nb_tf',TfidfVectorizer(encoding='latin-1',use_idf=False,binary=False, stop_words='english')),('nb',MultinomialNB())])\n",
    "scores = cross_val_score(mNB_tf_pipe,X,y,cv=5)\n",
    "print(sum(scores)/len(scores))\n",
    "\n",
    "##MNB with Bool\n",
    "nb_clf_pipe = Pipeline([('vect', CountVectorizer(encoding='latin-1', binary=True, stop_words='english')),('nb', MultinomialNB())])\n",
    "scores = cross_val_score(nb_clf_pipe, X, y, cv=5)\n",
    "avg=sum(scores)/len(scores)\n",
    "print(avg)"
   ]
  },
  {
   "cell_type": "code",
   "execution_count": 13,
   "metadata": {},
   "outputs": [
    {
     "name": "stdout",
     "output_type": "stream",
     "text": [
      "0.8942279820943251\n",
      "0.9004641416460235\n",
      "0.9235155030135896\n"
     ]
    }
   ],
   "source": [
    "#Vectorizers for MNB for text\n",
    "\n",
    "#MNB TFIDF\n",
    "mNB_tfidf_pipe = Pipeline([('nb_tf',TfidfVectorizer(encoding='latin-1',use_idf=True,binary=False, stop_words='english')),('nb',MultinomialNB())])\n",
    "scores = cross_val_score(mNB_tfidf_pipe,X1,y,cv=5)\n",
    "print(sum(scores)/len(scores))\n",
    "\n",
    "##MNB TF\n",
    "mNB_tf_pipe = Pipeline([('nb_tf',TfidfVectorizer(encoding='latin-1',use_idf=False,binary=False, stop_words='english')),('nb',MultinomialNB())])\n",
    "scores = cross_val_score(mNB_tf_pipe,X1,y,cv=5)\n",
    "print(sum(scores)/len(scores))\n",
    "\n",
    "##MNB with Bool\n",
    "nb_clf_pipe = Pipeline([('vect', CountVectorizer(encoding='latin-1', binary=True, stop_words='english')),('nb', MultinomialNB())])\n",
    "scores = cross_val_score(nb_clf_pipe, X1, y, cv=5)\n",
    "avg=sum(scores)/len(scores)\n",
    "print(avg)"
   ]
  },
  {
   "cell_type": "code",
   "execution_count": 14,
   "metadata": {},
   "outputs": [
    {
     "name": "stdout",
     "output_type": "stream",
     "text": [
      "0.9189056672944617\n",
      "0.9184156325164556\n",
      "0.9179032144045088\n"
     ]
    }
   ],
   "source": [
    "#Vectorizers for SVM for title\n",
    "\n",
    "##SVC TFIDF\n",
    "svc_tfidf_pipe = Pipeline([('nb_tf',TfidfVectorizer(encoding='latin-1',use_idf=True,binary=False, stop_words='english')),('svc',LinearSVC())])\n",
    "scores = cross_val_score(svc_tfidf_pipe,X,y,cv=5)\n",
    "print(sum(scores)/len(scores))\n",
    "\n",
    "##SVC TF\n",
    "svc_tf_pipe = Pipeline([('nb_tf',TfidfVectorizer(encoding='latin-1',use_idf=False,binary=False, stop_words='english')),('svc',LinearSVC())])\n",
    "scores = cross_val_score(svc_tf_pipe,X,y,cv=5)\n",
    "print(sum(scores)/len(scores))\n",
    "\n",
    "##SVC with Bool\n",
    "svc_clf_pipe = Pipeline([('vect', CountVectorizer(encoding='latin-1',ngram_range =(1,3), binary=True, stop_words='english')),('svc', LinearSVC())])\n",
    "scores = cross_val_score(svc_clf_pipe, X, y, cv=5)\n",
    "avg=sum(scores)/len(scores)\n",
    "print(avg)"
   ]
  },
  {
   "cell_type": "code",
   "execution_count": 15,
   "metadata": {},
   "outputs": [
    {
     "name": "stdout",
     "output_type": "stream",
     "text": [
      "0.9746538805840206\n",
      "0.9749656002585592\n"
     ]
    },
    {
     "name": "stderr",
     "output_type": "stream",
     "text": [
      "C:\\Users\\shiva\\anaconda3\\lib\\site-packages\\sklearn\\svm\\_base.py:976: ConvergenceWarning: Liblinear failed to converge, increase the number of iterations.\n",
      "  warnings.warn(\"Liblinear failed to converge, increase \"\n"
     ]
    },
    {
     "name": "stdout",
     "output_type": "stream",
     "text": [
      "0.9767473349719005\n"
     ]
    }
   ],
   "source": [
    "#Vectorizers for SVM for text\n",
    "\n",
    "##SVC TFIDF\n",
    "svc_tfidf_pipe = Pipeline([('nb_tf',TfidfVectorizer(encoding='latin-1',use_idf=True,binary=False, stop_words='english')),('svc',LinearSVC())])\n",
    "scores = cross_val_score(svc_tfidf_pipe,X1,y,cv=5)\n",
    "print(sum(scores)/len(scores))\n",
    "\n",
    "##SVC TF\n",
    "svc_tf_pipe = Pipeline([('nb_tf',TfidfVectorizer(encoding='latin-1',use_idf=False,binary=False, stop_words='english')),('svc',LinearSVC())])\n",
    "scores = cross_val_score(svc_tf_pipe,X1,y,cv=5)\n",
    "print(sum(scores)/len(scores))\n",
    "\n",
    "##SVC with Bool\n",
    "svc_clf_pipe = Pipeline([('vect', CountVectorizer(encoding='latin-1',ngram_range =(1,3), binary=True, stop_words='english')),('svc', LinearSVC())])\n",
    "scores = cross_val_score(svc_clf_pipe, X1, y, cv=5)\n",
    "avg=sum(scores)/len(scores)\n",
    "print(avg)"
   ]
  },
  {
   "cell_type": "markdown",
   "metadata": {},
   "source": [
    "Training SVM Term Frequency Vectorizer for the title"
   ]
  },
  {
   "cell_type": "code",
   "execution_count": 92,
   "metadata": {},
   "outputs": [],
   "source": [
    "from sklearn.model_selection import train_test_split\n",
    "X_train, X_test, y_train, y_test = train_test_split(X, y, test_size=0.4, random_state=0)\n",
    "unigram_count_vectorizer = TfidfVectorizer(encoding='latin-1',use_idf=False,binary=False, stop_words='english')\n",
    "X_train_vec = unigram_count_vectorizer.fit_transform(X_train)"
   ]
  },
  {
   "cell_type": "code",
   "execution_count": 93,
   "metadata": {},
   "outputs": [],
   "source": [
    "X_test_vec = unigram_count_vectorizer.transform(X_test)"
   ]
  },
  {
   "cell_type": "code",
   "execution_count": 94,
   "metadata": {},
   "outputs": [
    {
     "data": {
      "text/plain": [
       "LinearSVC(C=1)"
      ]
     },
     "execution_count": 94,
     "metadata": {},
     "output_type": "execute_result"
    }
   ],
   "source": [
    "# import the LinearSVC module\n",
    "from sklearn.svm import LinearSVC\n",
    "\n",
    "# initialize the LinearSVC model\n",
    "svm_clf = LinearSVC(C=1)\n",
    "\n",
    "# use the training data to train the model\n",
    "svm_clf.fit(X_train_vec,y_train)"
   ]
  },
  {
   "cell_type": "code",
   "execution_count": 95,
   "metadata": {},
   "outputs": [],
   "source": [
    "feature_ranks = sorted(zip(svm_clf.coef_[0], unigram_count_vectorizer.get_feature_names()))"
   ]
  },
  {
   "cell_type": "code",
   "execution_count": 96,
   "metadata": {},
   "outputs": [
    {
     "name": "stdout",
     "output_type": "stream",
     "text": [
      "Features for true news\n",
      "(1.6239491539913786, 'egypt')\n",
      "(1.649915577537006, 'brazil')\n",
      "(1.678654597930993, 'ukraine')\n",
      "(1.7057089930525327, 'kremlin')\n",
      "(1.7354058447529808, 'says')\n",
      "(1.78345873007935, 'rohingya')\n",
      "(1.7835632788189941, 'exclusive')\n",
      "(1.7847610197869292, 'myanmar')\n",
      "(1.8822074397941162, 'urges')\n",
      "(3.0322434161871907, 'factbox')\n",
      "\n"
     ]
    }
   ],
   "source": [
    "very_negative_10 = feature_ranks[-10:]\n",
    "print(\"Features for true news\")\n",
    "for i in range(0, len(very_negative_10)):\n",
    "    print(very_negative_10[i])\n",
    "print()"
   ]
  },
  {
   "cell_type": "code",
   "execution_count": 97,
   "metadata": {},
   "outputs": [
    {
     "name": "stdout",
     "output_type": "stream",
     "text": [
      "Fake news\n",
      "(-3.8564579724748334, 'video')\n",
      "(-3.604059041955846, 'breaking')\n",
      "(-3.6003081920125517, 'gop')\n",
      "(-2.9005018515325354, 'watch')\n",
      "(-2.8003474372940698, 'just')\n",
      "(-2.6761916388848794, 'lied')\n",
      "(-2.6630234392499754, 'hillary')\n",
      "(-2.632086117419729, 'racist')\n",
      "(-2.613430715015848, 'illegals')\n",
      "(-2.586159398444005, 'bernie')\n",
      "\n"
     ]
    }
   ],
   "source": [
    "## get 10 features that are least relevant to \"very negative\" sentiment (they are at the top of the ranked list)\n",
    "not_very_negative_10 = feature_ranks[:10]\n",
    "print(\"Fake news\")\n",
    "for i in range(0, len(not_very_negative_10)):\n",
    "    print(not_very_negative_10[i])\n",
    "print()"
   ]
  },
  {
   "cell_type": "code",
   "execution_count": 101,
   "metadata": {},
   "outputs": [
    {
     "data": {
      "text/plain": [
       "0.9479398663697105"
      ]
     },
     "execution_count": 101,
     "metadata": {},
     "output_type": "execute_result"
    }
   ],
   "source": [
    "svm_clf.score(X_test_vec,y_test)"
   ]
  },
  {
   "cell_type": "code",
   "execution_count": 102,
   "metadata": {},
   "outputs": [
    {
     "name": "stdout",
     "output_type": "stream",
     "text": [
      "[[8860  480]\n",
      " [ 455 8165]]\n",
      "\n",
      "              precision    recall  f1-score   support\n",
      "\n",
      "           0       0.95      0.95      0.95      9340\n",
      "           1       0.94      0.95      0.95      8620\n",
      "\n",
      "    accuracy                           0.95     17960\n",
      "   macro avg       0.95      0.95      0.95     17960\n",
      "weighted avg       0.95      0.95      0.95     17960\n",
      "\n"
     ]
    }
   ],
   "source": [
    "#Confusion Matrix and classification report\n",
    "from sklearn.metrics import confusion_matrix\n",
    "y_pred = svm_clf.predict(X_test_vec)\n",
    "cm=confusion_matrix(y_test, y_pred, labels=[0,1])\n",
    "print(cm)\n",
    "print()\n",
    "\n",
    "from sklearn.metrics import classification_report\n",
    "target_names = ['0','1']\n",
    "print(classification_report(y_test, y_pred, target_names=target_names))"
   ]
  },
  {
   "cell_type": "code",
   "execution_count": 103,
   "metadata": {},
   "outputs": [
    {
     "name": "stdout",
     "output_type": "stream",
     "text": [
      "traffic is for the little people clinton carpetbaggers get wall  guards and now private street for ny house\n",
      "nc governor robs disaster relief fund to hire lawyers to defend trans bathroom bill\n",
      "the internet can t stop laughing after sean spicer says trump is  tough on russia\n",
      "florida governor rick scott tax cut his way into massive hiv aids comeback\n",
      "democrats launch plan to make trump s first speech to congress very uncomfortable\n",
      "some of the white house leaks may be coming from the most unexpected place\n",
      "errors: 6\n"
     ]
    }
   ],
   "source": [
    "err_cnt = 0\n",
    "for i in range(0, len(y_test)):\n",
    "    if(y_test.iloc[i]==0 and y_pred[i]==1):\n",
    "        print(X_test.iloc[i])\n",
    "        err_cnt = err_cnt+1\n",
    "        if err_cnt>5:\n",
    "            break\n",
    "print(\"errors:\", err_cnt)"
   ]
  },
  {
   "cell_type": "code",
   "execution_count": 104,
   "metadata": {},
   "outputs": [
    {
     "name": "stdout",
     "output_type": "stream",
     "text": [
      "trump vs  clinton  debate will mark biggest moment of election\n",
      "trump could easily erase much of obama s foreign policy legacy\n",
      "senior u s  republican senator   let mr  mueller do his job\n",
      "trump picks white collar crime lawyer to replace comey at fbi\n",
      "congresswoman quits democratic national committee  endorses bernie sanders\n",
      "trump  hurricane irma has  absolutely historic destructive potential\n",
      "errors: 6\n"
     ]
    }
   ],
   "source": [
    "err_cnt = 0\n",
    "for i in range(0, len(y_test)):\n",
    "    if(y_test.iloc[i]==1 and y_pred[i]==0):\n",
    "        print(X_test.iloc[i])\n",
    "        err_cnt = err_cnt+1\n",
    "        if err_cnt>5:\n",
    "            break\n",
    "print(\"errors:\", err_cnt)"
   ]
  },
  {
   "cell_type": "markdown",
   "metadata": {},
   "source": [
    "Training SVM Term Frequency Vectorizer for the text"
   ]
  },
  {
   "cell_type": "code",
   "execution_count": 105,
   "metadata": {},
   "outputs": [],
   "source": [
    "from sklearn.model_selection import train_test_split\n",
    "X_train, X_test, y_train, y_test = train_test_split(X1, y, test_size=0.4, random_state=0)\n",
    "unigram_count_vectorizer = TfidfVectorizer(encoding='latin-1',use_idf=False,binary=False, stop_words='english')\n",
    "X_train_vec = unigram_count_vectorizer.fit_transform(X_train)"
   ]
  },
  {
   "cell_type": "code",
   "execution_count": 106,
   "metadata": {},
   "outputs": [],
   "source": [
    "X_test_vec = unigram_count_vectorizer.transform(X_test)"
   ]
  },
  {
   "cell_type": "code",
   "execution_count": 107,
   "metadata": {},
   "outputs": [
    {
     "data": {
      "text/plain": [
       "LinearSVC(C=1)"
      ]
     },
     "execution_count": 107,
     "metadata": {},
     "output_type": "execute_result"
    }
   ],
   "source": [
    "# import the LinearSVC module\n",
    "from sklearn.svm import LinearSVC\n",
    "\n",
    "# initialize the LinearSVC model\n",
    "svm_clf = LinearSVC(C=1)\n",
    "\n",
    "# use the training data to train the model\n",
    "svm_clf.fit(X_train_vec,y_train)"
   ]
  },
  {
   "cell_type": "code",
   "execution_count": 108,
   "metadata": {},
   "outputs": [],
   "source": [
    "feature_ranks = sorted(zip(svm_clf.coef_[0], unigram_count_vectorizer.get_feature_names()))"
   ]
  },
  {
   "cell_type": "code",
   "execution_count": 109,
   "metadata": {},
   "outputs": [
    {
     "name": "stdout",
     "output_type": "stream",
     "text": [
      "Features for true news\n",
      "(2.2297721500105427, 'representatives')\n",
      "(2.2667940511179188, 'edt')\n",
      "(2.762624571957347, 'monday')\n",
      "(2.797585152453526, 'friday')\n",
      "(2.829570609144373, 'said')\n",
      "(2.852219059281572, 'tuesday')\n",
      "(3.004883393157265, 'wednesday')\n",
      "(3.0615148354020674, 'nov')\n",
      "(3.2583797666589525, 'reuters')\n",
      "(3.307663839480218, 'thursday')\n",
      "\n"
     ]
    }
   ],
   "source": [
    "very_negative_10 = feature_ranks[-10:]\n",
    "print(\"Features for true news\")\n",
    "for i in range(0, len(very_negative_10)):\n",
    "    print(very_negative_10[i])\n",
    "print()"
   ]
  },
  {
   "cell_type": "code",
   "execution_count": 110,
   "metadata": {},
   "outputs": [
    {
     "name": "stdout",
     "output_type": "stream",
     "text": [
      "Fake news\n",
      "(-5.869126200390745, 'read')\n",
      "(-4.420470682501291, 'featured')\n",
      "(-4.367325501578731, 'gop')\n",
      "(-3.630252135195922, 'image')\n",
      "(-3.6067885512076834, 'sen')\n",
      "(-3.4635361131427294, 'getty')\n",
      "(-3.3207600567927487, 'mr')\n",
      "(-3.2414189399370685, 'wire')\n",
      "(-3.133792029075272, 'rep')\n",
      "(-3.104191567667746, 'com')\n",
      "\n"
     ]
    }
   ],
   "source": [
    "## get 10 features that are least relevant to \"very negative\" sentiment (they are at the top of the ranked list)\n",
    "not_very_negative_10 = feature_ranks[:10]\n",
    "print(\"Fake news\")\n",
    "for i in range(0, len(not_very_negative_10)):\n",
    "    print(not_very_negative_10[i])\n",
    "print()"
   ]
  },
  {
   "cell_type": "code",
   "execution_count": 111,
   "metadata": {},
   "outputs": [
    {
     "data": {
      "text/plain": [
       "0.9842984409799554"
      ]
     },
     "execution_count": 111,
     "metadata": {},
     "output_type": "execute_result"
    }
   ],
   "source": [
    "svm_clf.score(X_test_vec,y_test)"
   ]
  },
  {
   "cell_type": "code",
   "execution_count": 112,
   "metadata": {},
   "outputs": [
    {
     "name": "stdout",
     "output_type": "stream",
     "text": [
      "[[9204  136]\n",
      " [ 146 8474]]\n",
      "\n",
      "              precision    recall  f1-score   support\n",
      "\n",
      "           0       0.98      0.99      0.98      9340\n",
      "           1       0.98      0.98      0.98      8620\n",
      "\n",
      "    accuracy                           0.98     17960\n",
      "   macro avg       0.98      0.98      0.98     17960\n",
      "weighted avg       0.98      0.98      0.98     17960\n",
      "\n"
     ]
    }
   ],
   "source": [
    "#Confusion Matrix and classification report\n",
    "from sklearn.metrics import confusion_matrix\n",
    "y_pred = svm_clf.predict(X_test_vec)\n",
    "cm=confusion_matrix(y_test, y_pred, labels=[0,1])\n",
    "print(cm)\n",
    "print()\n",
    "\n",
    "from sklearn.metrics import classification_report\n",
    "target_names = ['0','1']\n",
    "print(classification_report(y_test, y_pred, target_names=target_names))"
   ]
  },
  {
   "cell_type": "code",
   "execution_count": 113,
   "metadata": {},
   "outputs": [
    {
     "name": "stdout",
     "output_type": "stream",
     "text": [
      "after years of debate  the house on thursday voted to repeal key parts of the affordable care act and replace them with new provisions the vote  which president donald trump was planning to tout as a big victory  sends the republican sponsored bill to gut obamacare to the senate for consideration but winning approval for the bill could be even more difficult in the senate than it has been in the house  where republican leaders struggled for nearly two months to wrangle enough votes in their caucus to secure its passage the bill passed by a vote of     to      all     democrats voting opposed the bill  they were joined by    republicans voting  no  a lot of us have waited seven years to case this vote   house speaker paul ryan  r wis   said shortly before the voting began   many of us are here because we pledged to cast this vote  to repeal and replace obamacare  this bill delivers the promises we have made to the american people   ryan said house majority whip steve scalise  r la   told msnbc shortly before the vote began   we were elected to do this  after the vote  protesters outside the capitol building yelled   shame  shame   at members of congress walking down the front steps   cnbcwashington free beacon   one of the amendments  introduced by rep  tom macarthur  r   n j    co chair of the tuesday group  allows states to obtain a waiver from federal standards such as essential health benefits and community rating rules  this measure gained the support of house freedom caucus members  who said it will significantly lower health costs  even if it does not fully repeal obamacare  the macarthur amendment will grant states the ability to repeal cost driving aspects of obamacare left in place under the original ahca   said the house freedom caucus   while the revised version still does not fully repeal obamacare  we are prepared to support it to keep our promise to the american people to lower health care costs  another amendment  introduced by rep  fred upton  r   mich   adds    billion to the patient and state stability fund  which helps reduce premiums and out of pocket costs  this amendment would provide additional funding     billion over five years  to ensure a strong safety net and reduce premiums  or other out of pocket costs  for those with preexisting conditions   said upton following the amendment  white house press secretary sean spicer said that the white house supported the measure and that president trump has been working to ensure that americans have more affordable care  overall the efforts that were made  and especially the effort this morning with congressmen long and upton  help bring more people into this effort and make it even a stronger bill  and ensure that americans have a health care system that gets them the care that they need at a price that s affordable   spicer said  the president has been on the phone constantly   spicer said   i think we have made this an unbelievable bill and an unbelievable replacement for obamacare  which is failing  and that s what we ve sought to do from the beginning\n",
      "errors: 1\n"
     ]
    }
   ],
   "source": [
    "err_cnt = 0\n",
    "for i in range(0, len(y_test)):\n",
    "    if(y_test.iloc[i]==0 and y_pred[i]==1):\n",
    "        print(X_test.iloc[i])\n",
    "        err_cnt = err_cnt+1\n",
    "        if err_cnt>0:\n",
    "            break\n",
    "print(\"errors:\", err_cnt)"
   ]
  },
  {
   "cell_type": "code",
   "execution_count": 114,
   "metadata": {},
   "outputs": [
    {
     "name": "stdout",
     "output_type": "stream",
     "text": [
      "the u s  supreme court on tuesday wrestled with the question of under what circumstances judges can recall jurors to duty after they have rendered a verdict  in a case involving a man seeking damages after suffering injuries in a montana car accident  the justices  during an hour of arguments  indicated that a gap of just a few minutes in which there is no opportunity for jurors to be exposed to any information that could prejudice their views of the case may be permissible  that would mean north dakota man rocky dietz  who sued a man named hillary bouldin for negligence after the      accident in the city of bozeman  would lose his bid for a new trial  bouldin ran a red light and his vehicle hit the passenger side of dietz s vehicle  bouldin admitted he was responsible for the collision  the jury initially awarded dietz nothing  but the judge recalled the jurors within minutes after they had been discharged from duty  reminding them that bouldin s lawyers had earlier stipulated dietz was due at least         to cover medical expenses already incurred  the jury subsequently awarded         to dietz  dietz s lawyers objected to the judge s action to recall the jury  contending that the fact that the jurors initially had awarded him no money indicated they were not fair and impartial toward him  the justices sought clarity on the outer boundaries of what could be permissible in recalling a jury  such as the amount of time the jury was discharged or whether jurors had a chance to leave the courthouse before being recalled  questions from justices including chief justice john roberts indicated their greatest concern was to ensure jurors would not be exposed to prejudicial information after being discharged    why doesn t it make sense to say  well  if they re right out in the hall     bring them back in and ask  just as the judge did here   have you talked to anybody about the case    roberts asked  justice stephen breyer said if there are no signs of prejudice  it would be more efficient to recall the jurors rather than conduct a new trial with a different jury    now  if it saves a lot of money  and that s the only difference  why don t we say the efficiency argument is what counts   breyer asked  justice sonia sotomayor  a former trial judge  noted that immediately after some trials juries can be exposed to prejudicial remarks  including expressions of emotion from family members and comments from court staff  a ruling is due by the end of june\n",
      "errors: 1\n"
     ]
    }
   ],
   "source": [
    "err_cnt = 0\n",
    "for i in range(0, len(y_test)):\n",
    "    if(y_test.iloc[i]==1 and y_pred[i]==0):\n",
    "        print(X_test.iloc[i])\n",
    "        err_cnt = err_cnt+1\n",
    "        if err_cnt>0:\n",
    "            break\n",
    "print(\"errors:\", err_cnt)"
   ]
  },
  {
   "cell_type": "code",
   "execution_count": 119,
   "metadata": {},
   "outputs": [],
   "source": [
    "#Topic Modeling\n",
    "from sklearn.decomposition import NMF, LatentDirichletAllocation\n",
    "\n",
    "no_features = 1000\n",
    "no_topics = 5\n",
    "\n",
    "# Run NMF\n",
    "#nmf = NMF(n_components=no_topics, random_state=1, alpha=.1, l1_ratio=.5, init='nndsvd').fit(tfidf)\n",
    "\n",
    "# Run LDA\n",
    "tf_vectorizer = CountVectorizer(max_df=0.95, min_df=2, ngram_range = (1,2), max_features=no_features, stop_words='english')\n",
    "tf = tf_vectorizer.fit_transform(X)\n",
    "tf_feature_names = tf_vectorizer.get_feature_names()\n",
    "lda = LatentDirichletAllocation(n_components=no_topics, max_iter=5, learning_method='online', learning_offset=50.,random_state=0)\n",
    "lda_z = lda.fit_transform(tf)"
   ]
  },
  {
   "cell_type": "code",
   "execution_count": 120,
   "metadata": {},
   "outputs": [],
   "source": [
    "def display_topics(model, feature_names, no_top_words):\n",
    "    for topic_idx, topic in enumerate(model.components_):\n",
    "        print(\"Topic %d:\" % (topic_idx))\n",
    "        print(\" \".join([feature_names[i]\n",
    "                        for i in topic.argsort()[:-no_top_words - 1:-1]]))\n",
    "\n",
    "no_top_words = 20"
   ]
  },
  {
   "cell_type": "code",
   "execution_count": 121,
   "metadata": {},
   "outputs": [
    {
     "name": "stdout",
     "output_type": "stream",
     "text": [
      "Topic 0:\n",
      "trump north korea north korea court eu iran senate minister government brexit tax republican turkey uk campaign war nuclear plan america\n",
      "Topic 1:\n",
      "house russia clinton white trump white house hillary obama military law syria russian myanmar probe foreign tells media say attack election\n",
      "Topic 2:\n",
      "says trump obama video president china watch deal talks news breaking factbox election putin trump says urges hillary poll cnn france\n",
      "Topic 3:\n",
      "vote police video pm south black new saudi islamic leader border opposition presidential islamic state killed mexico man support gun race\n",
      "Topic 4:\n",
      "trump video state party anti security congress donald ban donald trump governor speech judge democrats trade sanders gop aid help obamacare\n"
     ]
    }
   ],
   "source": [
    "display_topics(lda, tf_feature_names, no_top_words)"
   ]
  },
  {
   "cell_type": "code",
   "execution_count": 122,
   "metadata": {},
   "outputs": [],
   "source": [
    "#Assigning the topic number for every news article\n",
    "topic_list = []\n",
    "for i in range(lda_z.shape[0]):\n",
    "    topic_list.append(np.argmax(lda_z[i]))\n",
    "import pandas as pd\n",
    "df['topic'] = (pd.DataFrame(topic_list))"
   ]
  },
  {
   "cell_type": "code",
   "execution_count": 127,
   "metadata": {},
   "outputs": [
    {
     "data": {
      "text/plain": [
       "topic  label\n",
       "0      0        2738\n",
       "       1        2364\n",
       "1      0        3771\n",
       "       1        3380\n",
       "2      0        7625\n",
       "       1        7197\n",
       "3      0        3276\n",
       "       1        2975\n",
       "4      0        6071\n",
       "       1        5501\n",
       "dtype: int64"
      ]
     },
     "execution_count": 127,
     "metadata": {},
     "output_type": "execute_result"
    }
   ],
   "source": [
    "#Checking data balance\n",
    "occur1 = df.groupby(['topic', 'label']).size()\n",
    "occur1"
   ]
  },
  {
   "cell_type": "code",
   "execution_count": 141,
   "metadata": {},
   "outputs": [],
   "source": [
    "#Training with topics 2 and 4\n",
    "#Testing with topics 0, 1 and 3\n",
    "df_train1 = df[df['topic'] == 2].append(df[df['topic'] == 4])\n",
    "df_test1 = df[df['topic'] == 0].append(df[df['topic'] == 1]).append(df[df['topic'] == 3])"
   ]
  },
  {
   "cell_type": "markdown",
   "metadata": {},
   "source": [
    "Training on title"
   ]
  },
  {
   "cell_type": "code",
   "execution_count": 144,
   "metadata": {},
   "outputs": [],
   "source": [
    "X_train = df_train1['title']\n",
    "y_train = df_train1['label']\n",
    "X_test = df_test1['title']\n",
    "y_test = df_test1['label']"
   ]
  },
  {
   "cell_type": "code",
   "execution_count": 146,
   "metadata": {},
   "outputs": [],
   "source": [
    "unigram_count_vectorizer = TfidfVectorizer(encoding='latin-1',use_idf=False,binary=False, stop_words='english')\n",
    "X_train_vec = unigram_count_vectorizer.fit_transform(X_train)"
   ]
  },
  {
   "cell_type": "code",
   "execution_count": 147,
   "metadata": {},
   "outputs": [],
   "source": [
    "X_test_vec = unigram_count_vectorizer.transform(X_test)"
   ]
  },
  {
   "cell_type": "code",
   "execution_count": 148,
   "metadata": {},
   "outputs": [
    {
     "data": {
      "text/plain": [
       "LinearSVC(C=1)"
      ]
     },
     "execution_count": 148,
     "metadata": {},
     "output_type": "execute_result"
    }
   ],
   "source": [
    "# import the LinearSVC module\n",
    "from sklearn.svm import LinearSVC\n",
    "\n",
    "# initialize the LinearSVC model\n",
    "svm_clf = LinearSVC(C=1)\n",
    "\n",
    "# use the training data to train the model\n",
    "svm_clf.fit(X_train_vec,y_train)"
   ]
  },
  {
   "cell_type": "code",
   "execution_count": 149,
   "metadata": {},
   "outputs": [
    {
     "name": "stdout",
     "output_type": "stream",
     "text": [
      "[[7376 2409]\n",
      " [ 265 8454]]\n",
      "\n",
      "              precision    recall  f1-score   support\n",
      "\n",
      "           0       0.97      0.75      0.85      9785\n",
      "           1       0.78      0.97      0.86      8719\n",
      "\n",
      "    accuracy                           0.86     18504\n",
      "   macro avg       0.87      0.86      0.85     18504\n",
      "weighted avg       0.88      0.86      0.85     18504\n",
      "\n"
     ]
    }
   ],
   "source": [
    "#Confusion Matrix and Classification report\n",
    "from sklearn.metrics import confusion_matrix\n",
    "y_pred = svm_clf.predict(X_test_vec)\n",
    "cm=confusion_matrix(y_test, y_pred, labels=[0,1])\n",
    "print(cm)\n",
    "print()\n",
    "\n",
    "from sklearn.metrics import classification_report\n",
    "target_names = ['0','1']\n",
    "print(classification_report(y_test, y_pred, target_names=target_names))"
   ]
  },
  {
   "cell_type": "markdown",
   "metadata": {},
   "source": [
    "Training for text of the article"
   ]
  },
  {
   "cell_type": "code",
   "execution_count": 150,
   "metadata": {},
   "outputs": [],
   "source": [
    "X_train = df_train1['text']\n",
    "y_train = df_train1['label']\n",
    "X_test = df_test1['text']\n",
    "y_test = df_test1['label']"
   ]
  },
  {
   "cell_type": "code",
   "execution_count": 151,
   "metadata": {},
   "outputs": [],
   "source": [
    "unigram_count_vectorizer = TfidfVectorizer(encoding='latin-1',use_idf=False,binary=False, stop_words='english')\n",
    "X_train_vec = unigram_count_vectorizer.fit_transform(X_train)"
   ]
  },
  {
   "cell_type": "code",
   "execution_count": 152,
   "metadata": {},
   "outputs": [],
   "source": [
    "X_test_vec = unigram_count_vectorizer.transform(X_test)"
   ]
  },
  {
   "cell_type": "code",
   "execution_count": 153,
   "metadata": {},
   "outputs": [
    {
     "data": {
      "text/plain": [
       "LinearSVC(C=1)"
      ]
     },
     "execution_count": 153,
     "metadata": {},
     "output_type": "execute_result"
    }
   ],
   "source": [
    "# import the LinearSVC module\n",
    "from sklearn.svm import LinearSVC\n",
    "\n",
    "# initialize the LinearSVC model\n",
    "svm_clf = LinearSVC(C=1)\n",
    "\n",
    "# use the training data to train the model\n",
    "svm_clf.fit(X_train_vec,y_train)"
   ]
  },
  {
   "cell_type": "code",
   "execution_count": 154,
   "metadata": {},
   "outputs": [
    {
     "name": "stdout",
     "output_type": "stream",
     "text": [
      "[[9366  419]\n",
      " [ 107 8612]]\n",
      "\n",
      "              precision    recall  f1-score   support\n",
      "\n",
      "           0       0.99      0.96      0.97      9785\n",
      "           1       0.95      0.99      0.97      8719\n",
      "\n",
      "    accuracy                           0.97     18504\n",
      "   macro avg       0.97      0.97      0.97     18504\n",
      "weighted avg       0.97      0.97      0.97     18504\n",
      "\n"
     ]
    }
   ],
   "source": [
    "#Confusion Matrix and Classification report\n",
    "from sklearn.metrics import confusion_matrix\n",
    "y_pred = svm_clf.predict(X_test_vec)\n",
    "cm=confusion_matrix(y_test, y_pred, labels=[0,1])\n",
    "print(cm)\n",
    "print()\n",
    "\n",
    "from sklearn.metrics import classification_report\n",
    "target_names = ['0','1']\n",
    "print(classification_report(y_test, y_pred, target_names=target_names))"
   ]
  }
 ],
 "metadata": {
  "kernelspec": {
   "display_name": "Python 3",
   "language": "python",
   "name": "python3"
  },
  "language_info": {
   "codemirror_mode": {
    "name": "ipython",
    "version": 3
   },
   "file_extension": ".py",
   "mimetype": "text/x-python",
   "name": "python",
   "nbconvert_exporter": "python",
   "pygments_lexer": "ipython3",
   "version": "3.8.5"
  }
 },
 "nbformat": 4,
 "nbformat_minor": 4
}
