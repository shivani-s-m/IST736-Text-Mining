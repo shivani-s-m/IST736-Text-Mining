{
 "cells": [
  {
   "cell_type": "markdown",
   "metadata": {},
   "source": [
    "# Homework 2\n",
    "\n",
    "This analysis aims to explore different ways for topic modeling."
   ]
  },
  {
   "cell_type": "code",
   "execution_count": 1,
   "metadata": {},
   "outputs": [],
   "source": [
    "#Importing the required libraries \n",
    "import pandas as pd\n",
    "import numpy as np\n",
    "from sklearn.feature_extraction.text import CountVectorizer\n",
    "from sklearn.feature_extraction.text import TfidfVectorizer\n",
    "from sklearn.metrics.pairwise import cosine_similarity\n",
    "from sklearn.cluster import KMeans"
   ]
  },
  {
   "cell_type": "code",
   "execution_count": 2,
   "metadata": {},
   "outputs": [],
   "source": [
    "#Reading the data\n",
    "data = pd.read_csv('headline_10000.csv')"
   ]
  },
  {
   "cell_type": "code",
   "execution_count": 3,
   "metadata": {},
   "outputs": [
    {
     "data": {
      "text/html": [
       "<div>\n",
       "<style scoped>\n",
       "    .dataframe tbody tr th:only-of-type {\n",
       "        vertical-align: middle;\n",
       "    }\n",
       "\n",
       "    .dataframe tbody tr th {\n",
       "        vertical-align: top;\n",
       "    }\n",
       "\n",
       "    .dataframe thead th {\n",
       "        text-align: right;\n",
       "    }\n",
       "</style>\n",
       "<table border=\"1\" class=\"dataframe\">\n",
       "  <thead>\n",
       "    <tr style=\"text-align: right;\">\n",
       "      <th></th>\n",
       "      <th>id</th>\n",
       "      <th>title</th>\n",
       "    </tr>\n",
       "  </thead>\n",
       "  <tbody>\n",
       "    <tr>\n",
       "      <th>0</th>\n",
       "      <td>2008-05/aga-pop053008</td>\n",
       "      <td>Prevalence of pre-cancerous masses in the colo...</td>\n",
       "    </tr>\n",
       "    <tr>\n",
       "      <th>1</th>\n",
       "      <td>2008-05/e-nfo052708</td>\n",
       "      <td>New form of ECT is as effective as older types...</td>\n",
       "    </tr>\n",
       "    <tr>\n",
       "      <th>2</th>\n",
       "      <td>2008-05/jaaj-add050808</td>\n",
       "      <td>Anti-inflammatory drugs do not improve cogniti...</td>\n",
       "    </tr>\n",
       "    <tr>\n",
       "      <th>3</th>\n",
       "      <td>2008-05/jaaj-mmw052208</td>\n",
       "      <td>Many men with low testosterone levels do not r...</td>\n",
       "    </tr>\n",
       "    <tr>\n",
       "      <th>4</th>\n",
       "      <td>2008-05/jaaj-mot050108</td>\n",
       "      <td>Much of the increased risk of death from smoki...</td>\n",
       "    </tr>\n",
       "    <tr>\n",
       "      <th>...</th>\n",
       "      <td>...</td>\n",
       "      <td>...</td>\n",
       "    </tr>\n",
       "    <tr>\n",
       "      <th>9995</th>\n",
       "      <td>2020-10/vari-neb102120</td>\n",
       "      <td>New experimental blood test determines which p...</td>\n",
       "    </tr>\n",
       "    <tr>\n",
       "      <th>9996</th>\n",
       "      <td>2020-10/w-cml101920</td>\n",
       "      <td>Cholesterol medications linked to lower cancer...</td>\n",
       "    </tr>\n",
       "    <tr>\n",
       "      <th>9997</th>\n",
       "      <td>2020-10/w-tbo100520</td>\n",
       "      <td>The benefits of a prostate cancer screening tool</td>\n",
       "    </tr>\n",
       "    <tr>\n",
       "      <th>9998</th>\n",
       "      <td>2020-10/wsu-cro101920</td>\n",
       "      <td>Cannabis reduces OCD symptoms by half in the s...</td>\n",
       "    </tr>\n",
       "    <tr>\n",
       "      <th>9999</th>\n",
       "      <td>2020-10/wvu-chu101920</td>\n",
       "      <td>COVID-19 heightens urgency of advanced care pl...</td>\n",
       "    </tr>\n",
       "  </tbody>\n",
       "</table>\n",
       "<p>10000 rows × 2 columns</p>\n",
       "</div>"
      ],
      "text/plain": [
       "                          id  \\\n",
       "0      2008-05/aga-pop053008   \n",
       "1        2008-05/e-nfo052708   \n",
       "2     2008-05/jaaj-add050808   \n",
       "3     2008-05/jaaj-mmw052208   \n",
       "4     2008-05/jaaj-mot050108   \n",
       "...                      ...   \n",
       "9995  2020-10/vari-neb102120   \n",
       "9996     2020-10/w-cml101920   \n",
       "9997     2020-10/w-tbo100520   \n",
       "9998   2020-10/wsu-cro101920   \n",
       "9999   2020-10/wvu-chu101920   \n",
       "\n",
       "                                                  title  \n",
       "0     Prevalence of pre-cancerous masses in the colo...  \n",
       "1     New form of ECT is as effective as older types...  \n",
       "2     Anti-inflammatory drugs do not improve cogniti...  \n",
       "3     Many men with low testosterone levels do not r...  \n",
       "4     Much of the increased risk of death from smoki...  \n",
       "...                                                 ...  \n",
       "9995  New experimental blood test determines which p...  \n",
       "9996  Cholesterol medications linked to lower cancer...  \n",
       "9997   The benefits of a prostate cancer screening tool  \n",
       "9998  Cannabis reduces OCD symptoms by half in the s...  \n",
       "9999  COVID-19 heightens urgency of advanced care pl...  \n",
       "\n",
       "[10000 rows x 2 columns]"
      ]
     },
     "execution_count": 3,
     "metadata": {},
     "output_type": "execute_result"
    }
   ],
   "source": [
    "#Displaying the data\n",
    "data"
   ]
  },
  {
   "cell_type": "markdown",
   "metadata": {},
   "source": [
    "### Vectorizers"
   ]
  },
  {
   "cell_type": "code",
   "execution_count": 4,
   "metadata": {},
   "outputs": [],
   "source": [
    "#Term frequency vectorizer\n",
    "unigram_count = CountVectorizer(encoding='latin-1', ngram_range=(1,3), stop_words='english', binary=False)\n",
    "vecs = unigram_count.fit_transform(data['title'])"
   ]
  },
  {
   "cell_type": "code",
   "execution_count": 5,
   "metadata": {},
   "outputs": [],
   "source": [
    "#TFIDF Vectorizer\n",
    "gram_tfidf_vectorizer = TfidfVectorizer(encoding='latin-1', ngram_range=(1,2), stop_words='english', binary=False)\n",
    "vecs1 = gram_tfidf_vectorizer.fit_transform(data['title'])"
   ]
  },
  {
   "cell_type": "markdown",
   "metadata": {},
   "source": [
    "### Cosine Similarity"
   ]
  },
  {
   "cell_type": "code",
   "execution_count": 6,
   "metadata": {},
   "outputs": [
    {
     "data": {
      "text/plain": [
       "'Anti-inflammatory drugs do not improve cognitive function in older adults'"
      ]
     },
     "execution_count": 6,
     "metadata": {},
     "output_type": "execute_result"
    }
   ],
   "source": [
    "#The third headline\n",
    "data['title'][2]"
   ]
  },
  {
   "cell_type": "code",
   "execution_count": 7,
   "metadata": {},
   "outputs": [],
   "source": [
    "#Creating an array for all the cosine similarities between the headlines and the third headline for the term frequency vectorizer\n",
    "cos_sim = cosine_similarity(vecs[2], vecs)\n",
    "#Sorting the cosine similarities in descending order\n",
    "max_cos_sim = 0\n",
    "headline_num = 0\n",
    "sort_cos_sim = np.sort(-cos_sim)*-1"
   ]
  },
  {
   "cell_type": "code",
   "execution_count": 8,
   "metadata": {},
   "outputs": [
    {
     "data": {
      "text/plain": [
       "['The link between cognitive function and sexuality in older adults',\n",
       " \"Anti-inflammatory drugs ineffective for prevention of Alzheimer's disease\",\n",
       " 'Plant compounds may boost brain function in older adults, study says',\n",
       " 'Colorectal cancer prevention: A proven benefit of nonsteroidal anti-inflammatory drugs',\n",
       " 'Non-steroidal anti-inflammatory drugs linked to increased risk of erectile dysfunction',\n",
       " 'Self-administered light therapy may improve cognitive function after traumatic brain injury',\n",
       " \"Hazelnuts improve older adults' micronutrient levels\",\n",
       " 'Can training improve memory, thinking abilities in older adults with cognitive impairment?',\n",
       " 'Aspirin and similar drugs may be associated with brain microbleeds in older adults',\n",
       " 'Are preventive drugs overused at the end of life in older adults with cancer?']"
      ]
     },
     "execution_count": 8,
     "metadata": {},
     "output_type": "execute_result"
    }
   ],
   "source": [
    "#Creating an array for the top ten cosine similarities(Excluding the third one itself)\n",
    "top_ten_headlines = sort_cos_sim[0][1:11]\n",
    "top_ten_headlines\n",
    "\n",
    "#Finding the headline indices from the original data for the top ten similar headlines\n",
    "headline_index = []\n",
    "for i in range(len(top_ten_headlines)):\n",
    "    for j in range(len(cos_sim[0])):\n",
    "        if top_ten_headlines[i] == cos_sim[0][j]:\n",
    "            headline_index.append(j)\n",
    "            cos_sim[0][j]=0\n",
    "            break\n",
    "            \n",
    "#Getting the top ten similar headlines\n",
    "top_headlines = []\n",
    "for i in headline_index:\n",
    "    top_headlines.append(data['title'][i])\n",
    "top_headlines"
   ]
  },
  {
   "cell_type": "code",
   "execution_count": 9,
   "metadata": {},
   "outputs": [],
   "source": [
    "#Creating an array for all the cosine similarities between the headlines and the third headline for the TFIDF vectorizer\n",
    "cos_sim1 = cosine_similarity(vecs1[2], vecs1)\n",
    "cos_sim1\n",
    "#Sorting the cosine similarities in descending order\n",
    "max_cos_sim1 = 0\n",
    "headline_num1 = 0\n",
    "sort_cos_sim1 = np.sort(-cos_sim1)*-1"
   ]
  },
  {
   "cell_type": "code",
   "execution_count": 10,
   "metadata": {},
   "outputs": [
    {
     "data": {
      "text/plain": [
       "[\"Anti-inflammatory drugs ineffective for prevention of Alzheimer's disease\",\n",
       " 'The link between cognitive function and sexuality in older adults',\n",
       " 'Non-steroidal anti-inflammatory drugs linked to increased risk of erectile dysfunction',\n",
       " 'Colorectal cancer prevention: A proven benefit of nonsteroidal anti-inflammatory drugs',\n",
       " 'Self-administered light therapy may improve cognitive function after traumatic brain injury',\n",
       " 'Plant compounds may boost brain function in older adults, study says',\n",
       " 'Anti-inflammatory therapy cuts risk of lung cancer',\n",
       " 'Anti-inflammatory medicine can have a beneficial effect on depression',\n",
       " 'Anti-inflammatory plant-based diet helps reduce gingivitis',\n",
       " 'Cancer and chemobrain: Cancer diagnosis affects cognitive function']"
      ]
     },
     "execution_count": 10,
     "metadata": {},
     "output_type": "execute_result"
    }
   ],
   "source": [
    "#Creating an array for the top ten cosine similarities(Excluding the third one itself)\n",
    "top_ten_headlines1 = sort_cos_sim1[0][1:11]\n",
    "top_ten_headlines1\n",
    "\n",
    "#Finding the headline indices from the original data for the top ten similar headlines\n",
    "headline_index1 = []\n",
    "for i in range(len(top_ten_headlines1)):\n",
    "    for j in range(len(cos_sim1[0])):\n",
    "        if top_ten_headlines1[i] == cos_sim1[0][j]:\n",
    "            headline_index1.append(j)\n",
    "            cos_sim1[0][j]=0\n",
    "            break\n",
    "\n",
    "#Getting the top ten similar headlines\n",
    "top_headlines1 = []\n",
    "for i in headline_index1:\n",
    "    top_headlines1.append(data['title'][i])\n",
    "top_headlines1"
   ]
  },
  {
   "cell_type": "markdown",
   "metadata": {},
   "source": [
    "### K Means Clustering"
   ]
  },
  {
   "cell_type": "code",
   "execution_count": 11,
   "metadata": {},
   "outputs": [
    {
     "data": {
      "image/png": "[encoded data removed]",
      "text/plain": [
       "<Figure size 432x288 with 1 Axes>"
      ]
     },
     "metadata": {
      "needs_background": "light"
     },
     "output_type": "display_data"
    }
   ],
   "source": [
    "#Finding the optimal number of clusters for TFIDF vectorizer\n",
    "import matplotlib.pyplot as plt\n",
    "def find_optimal_clusters(data, max_k):\n",
    "    iters = range(2, max_k+1, 1)\n",
    "    \n",
    "    sse = []\n",
    "    for k in iters:\n",
    "        kmeans_model = KMeans(n_clusters=k,random_state=0, n_init=20).fit(data)\n",
    "        sse.append(kmeans_model.inertia_)\n",
    "    f, ax = plt.subplots(1, 1)\n",
    "    ax.plot(iters, sse, marker='o')\n",
    "    ax.set_xlabel('Cluster Centers')\n",
    "    ax.set_xticks(iters)\n",
    "    ax.set_xticklabels(iters)\n",
    "    ax.set_ylabel('sse')\n",
    "    ax.set_title('SSE by Cluster Center Plot')\n",
    "    \n",
    "find_optimal_clusters(vecs1,10)"
   ]
  },
  {
   "cell_type": "code",
   "execution_count": 12,
   "metadata": {},
   "outputs": [
    {
     "data": {
      "text/plain": [
       "KMeans(init='random', n_clusters=5, n_init=20, random_state=0, verbose=False)"
      ]
     },
     "execution_count": 12,
     "metadata": {},
     "output_type": "execute_result"
    }
   ],
   "source": [
    "#In the graph it seems 5 is the optimal number of clusters\n",
    "#So we conduct K means clustering with 5 clusters\n",
    "k = 5\n",
    "km1 = KMeans(n_clusters=k, algorithm='auto', init='random', n_init=20, random_state=0, verbose=False)\n",
    "km1.fit(vecs1)"
   ]
  },
  {
   "cell_type": "code",
   "execution_count": 13,
   "metadata": {},
   "outputs": [],
   "source": [
    "#Creating a different variable for the clustering labels\n",
    "df1 = data\n",
    "df1['cluster_labels']= km1.labels_"
   ]
  },
  {
   "cell_type": "code",
   "execution_count": 14,
   "metadata": {},
   "outputs": [
    {
     "data": {
      "text/plain": [
       "1       New form of ECT is as effective as older types...\n",
       "2       Anti-inflammatory drugs do not improve cogniti...\n",
       "3       Many men with low testosterone levels do not r...\n",
       "5                                 Also in the May 27 JNCI\n",
       "6       Childhood lead exposure associated with crimin...\n",
       "                              ...                        \n",
       "9992    Research pinpoints major drivers of tobacco ep...\n",
       "9993    UT Southwestern leads national efforts around ...\n",
       "9994    Mammography screening saves lives also in olde...\n",
       "9995    New experimental blood test determines which p...\n",
       "9998    Cannabis reduces OCD symptoms by half in the s...\n",
       "Name: title, Length: 5774, dtype: object"
      ]
     },
     "execution_count": 14,
     "metadata": {},
     "output_type": "execute_result"
    }
   ],
   "source": [
    "#Cluster 0\n",
    "df1[df1.cluster_labels==0]['title']"
   ]
  },
  {
   "cell_type": "code",
   "execution_count": 15,
   "metadata": {},
   "outputs": [
    {
     "data": {
      "text/plain": [
       "0       Prevalence of pre-cancerous masses in the colo...\n",
       "8       Researchers uncover higher prevalence of perio...\n",
       "12      Specialist nurses can play a key role in suppo...\n",
       "20      Promising results in deep brain stimulation fo...\n",
       "24      Making patients move requires the right exerci...\n",
       "                              ...                        \n",
       "9938    Genomic study of 6000 NCI-MATCH cancer patient...\n",
       "9939    Catheter ablation linked to reduced risk of de...\n",
       "9941    COVID-19 outcomes in patients with rare inborn...\n",
       "9954    Most psoriasis patients taking immunosuppressa...\n",
       "9988    Blood test could identify COVID-19 patients at...\n",
       "Name: title, Length: 884, dtype: object"
      ]
     },
     "execution_count": 15,
     "metadata": {},
     "output_type": "execute_result"
    }
   ],
   "source": [
    "#Cluster 1\n",
    "df1[df1.cluster_labels==1]['title']"
   ]
  },
  {
   "cell_type": "code",
   "execution_count": 16,
   "metadata": {},
   "outputs": [
    {
     "data": {
      "text/plain": [
       "9     Cosmetic surgery procedures to exceed 55 milli...\n",
       "13    Study of anti-CD20 therapy effective B cell de...\n",
       "25    After ER visit, many patients in a fog, U-M st...\n",
       "35    Case Western Reserve University study finds ca...\n",
       "46    Study examines lung cancer among lifelong nons...\n",
       "Name: title, dtype: object"
      ]
     },
     "execution_count": 16,
     "metadata": {},
     "output_type": "execute_result"
    }
   ],
   "source": [
    "#Cluster 2\n",
    "df1[df1.cluster_labels==2]['title'].head()"
   ]
  },
  {
   "cell_type": "code",
   "execution_count": 17,
   "metadata": {},
   "outputs": [
    {
     "data": {
      "text/plain": [
       "14    Japanese diet rich in fish may hold secret to ...\n",
       "48    Children's calorie expenditure, heart rate inc...\n",
       "83    Diabetes medications in same class carry diffe...\n",
       "98    Panic attacks linked to higher risk of heart a...\n",
       "99    Panic attacks linked to higher risk of heart a...\n",
       "Name: title, dtype: object"
      ]
     },
     "execution_count": 17,
     "metadata": {},
     "output_type": "execute_result"
    }
   ],
   "source": [
    "#Cluster 3\n",
    "df1[df1.cluster_labels==3]['title'].head()"
   ]
  },
  {
   "cell_type": "code",
   "execution_count": 18,
   "metadata": {},
   "outputs": [
    {
     "data": {
      "text/plain": [
       "4     Much of the increased risk of death from smoki...\n",
       "15    News from Cancer: Risk factors for deadly form...\n",
       "28           Epilepsy linked to higher risk of drowning\n",
       "31                          Cancer signatures uncovered\n",
       "37    Former child soldiers of Nepal at increased ri...\n",
       "Name: title, dtype: object"
      ]
     },
     "execution_count": 18,
     "metadata": {},
     "output_type": "execute_result"
    }
   ],
   "source": [
    "#Cluster 4\n",
    "df1[df1.cluster_labels==4]['title'].head()"
   ]
  },
  {
   "cell_type": "code",
   "execution_count": 19,
   "metadata": {},
   "outputs": [
    {
     "data": {
      "image/png": "[encoded data removed]",
      "text/plain": [
       "<Figure size 432x288 with 1 Axes>"
      ]
     },
     "metadata": {
      "needs_background": "light"
     },
     "output_type": "display_data"
    }
   ],
   "source": [
    "#Finding the optimal number of clusters for count vectorizer\n",
    "def find_optimal_clusters(data, max_k):\n",
    "    iters = range(2, max_k+1, 1)\n",
    "    \n",
    "    sse = []\n",
    "    for k in iters:\n",
    "        kmeans_model = KMeans(n_clusters=k,random_state=0, n_init=20).fit(data)\n",
    "        sse.append(kmeans_model.inertia_)\n",
    "    f, ax = plt.subplots(1, 1)\n",
    "    ax.plot(iters, sse, marker='o')\n",
    "    ax.set_xlabel('Cluster Centers')\n",
    "    ax.set_xticks(iters)\n",
    "    ax.set_xticklabels(iters)\n",
    "    ax.set_ylabel('sse')\n",
    "    ax.set_title('SSE by Cluster Center Plot')\n",
    "    \n",
    "find_optimal_clusters(vecs,10)"
   ]
  },
  {
   "cell_type": "code",
   "execution_count": 20,
   "metadata": {},
   "outputs": [
    {
     "data": {
      "text/plain": [
       "KMeans(init='random', n_clusters=3, n_init=20, random_state=0, verbose=False)"
      ]
     },
     "execution_count": 20,
     "metadata": {},
     "output_type": "execute_result"
    }
   ],
   "source": [
    "#In the graph it seems 3 is the optimal number of clusters\n",
    "#So we conduct K means clustering with 3 clusters\n",
    "k = 3\n",
    "km2 = KMeans(n_clusters=k, algorithm='auto', init='random', n_init=20, random_state=0, verbose=False)\n",
    "km2.fit(vecs)"
   ]
  },
  {
   "cell_type": "code",
   "execution_count": 21,
   "metadata": {},
   "outputs": [],
   "source": [
    "#Creating a different variable for the clustering labels\n",
    "df2 = data\n",
    "df2['cluster_labels']= km2.labels_"
   ]
  },
  {
   "cell_type": "code",
   "execution_count": 22,
   "metadata": {},
   "outputs": [
    {
     "data": {
      "text/plain": [
       "4       Much of the increased risk of death from smoki...\n",
       "15      News from Cancer: Risk factors for deadly form...\n",
       "28             Epilepsy linked to higher risk of drowning\n",
       "37      Former child soldiers of Nepal at increased ri...\n",
       "41      Reserve, National Guard at higher risk of alco...\n",
       "                              ...                        \n",
       "9915    Genetic analysis links obesity to higher rheum...\n",
       "9939    Catheter ablation linked to reduced risk of de...\n",
       "9963    Higher hypothetical disease risk linked with g...\n",
       "9973    Caesarean birth, prolonged labour influence in...\n",
       "9986    Study reveals risk factors for acute kidney in...\n",
       "Name: title, Length: 1228, dtype: object"
      ]
     },
     "execution_count": 22,
     "metadata": {},
     "output_type": "execute_result"
    }
   ],
   "source": [
    "#Cluster 0\n",
    "df2[df2.cluster_labels==0]['title']"
   ]
  },
  {
   "cell_type": "code",
   "execution_count": 23,
   "metadata": {},
   "outputs": [
    {
     "data": {
      "text/plain": [
       "1       New form of ECT is as effective as older types...\n",
       "2       Anti-inflammatory drugs do not improve cogniti...\n",
       "3       Many men with low testosterone levels do not r...\n",
       "5                                 Also in the May 27 JNCI\n",
       "6       Childhood lead exposure associated with crimin...\n",
       "                              ...                        \n",
       "9995    New experimental blood test determines which p...\n",
       "9996    Cholesterol medications linked to lower cancer...\n",
       "9997     The benefits of a prostate cancer screening tool\n",
       "9998    Cannabis reduces OCD symptoms by half in the s...\n",
       "9999    COVID-19 heightens urgency of advanced care pl...\n",
       "Name: title, Length: 7750, dtype: object"
      ]
     },
     "execution_count": 23,
     "metadata": {},
     "output_type": "execute_result"
    }
   ],
   "source": [
    "#Cluster 1\n",
    "df2[df2.cluster_labels==1]['title']"
   ]
  },
  {
   "cell_type": "code",
   "execution_count": 24,
   "metadata": {},
   "outputs": [
    {
     "data": {
      "text/plain": [
       "0       Prevalence of pre-cancerous masses in the colo...\n",
       "8       Researchers uncover higher prevalence of perio...\n",
       "12      Specialist nurses can play a key role in suppo...\n",
       "20      Promising results in deep brain stimulation fo...\n",
       "24      Making patients move requires the right exerci...\n",
       "                              ...                        \n",
       "9941    COVID-19 outcomes in patients with rare inborn...\n",
       "9954    Most psoriasis patients taking immunosuppressa...\n",
       "9960    Study finds room for improvement when hospital...\n",
       "9974    Many Non-Hodgkin's Lymphoma patients can skip ...\n",
       "9988    Blood test could identify COVID-19 patients at...\n",
       "Name: title, Length: 1022, dtype: object"
      ]
     },
     "execution_count": 24,
     "metadata": {},
     "output_type": "execute_result"
    }
   ],
   "source": [
    "#Cluster 2\n",
    "df2[df2.cluster_labels==2]['title']"
   ]
  },
  {
   "cell_type": "markdown",
   "metadata": {},
   "source": [
    "### LDA Modeling"
   ]
  },
  {
   "cell_type": "code",
   "execution_count": 25,
   "metadata": {},
   "outputs": [],
   "source": [
    "#Conducting LDA modeling for TFIDF vectorizer\n",
    "from sklearn.decomposition import NMF, LatentDirichletAllocation\n",
    "tf_feature_names = gram_tfidf_vectorizer.get_feature_names()\n",
    "no_topics = 8\n",
    "\n",
    "# Run LDA\n",
    "lda = LatentDirichletAllocation(n_components=no_topics, max_iter=5, learning_method='online', learning_offset=50.,random_state=0)\n",
    "lda_z = lda.fit_transform(vecs1)"
   ]
  },
  {
   "cell_type": "code",
   "execution_count": 26,
   "metadata": {},
   "outputs": [],
   "source": [
    "# Function to display the topic number, and the top keywords\n",
    "def display_topics(model, feature_names, no_top_words):\n",
    "    for topic_idx, topic in enumerate(model.components_):\n",
    "        print(\"Topic %d:\" % (topic_idx))\n",
    "        print(\" \".join([feature_names[i]\n",
    "                        for i in topic.argsort()[:-no_top_words - 1:-1]]))\n"
   ]
  },
  {
   "cell_type": "code",
   "execution_count": 27,
   "metadata": {},
   "outputs": [
    {
     "name": "stdout",
     "output_type": "stream",
     "text": [
      "Topic 0:\n",
      "risk cancer study patients new linked disease heart women treatment\n",
      "Topic 1:\n",
      "covid 19 covid 19 brain injury patients study kidney injury cardiac acute\n",
      "Topic 2:\n",
      "osteoarthritis knee osteoarthritis metabolic storm knee metabolic syndrome environmental disease linked temperature alcoholic\n",
      "Topic 3:\n",
      "fatty liver smoke fatty liver disease secondhand secondhand smoke insulin resistance postmenopausal liver uc\n",
      "Topic 4:\n",
      "bipolar bipolar disorder eye disease eye patients diabetes game happiness kidney transplant disorder mark\n",
      "Topic 5:\n",
      "study health mental new children long air disease term long term\n",
      "Topic 6:\n",
      "neck head head neck review efficiency improves cancer dashboard improves digital dashboard dashboard case review cancer case\n",
      "Topic 7:\n",
      "cervical cervical cancer determines test determines cancers respond respond treatment new experimental determines pancreatic experimental blood live longer\n"
     ]
    }
   ],
   "source": [
    "#Performing LDA topic modeling for 8 different topics \n",
    "no_top_words = 10\n",
    "display_topics(lda, tf_feature_names, no_top_words)"
   ]
  }
 ],
 "metadata": {
  "kernelspec": {
   "display_name": "Python 3",
   "language": "python",
   "name": "python3"
  },
  "language_info": {
   "codemirror_mode": {
    "name": "ipython",
    "version": 3
   },
   "file_extension": ".py",
   "mimetype": "text/x-python",
   "name": "python",
   "nbconvert_exporter": "python",
   "pygments_lexer": "ipython3",
   "version": "3.8.5"
  }
 },
 "nbformat": 4,
 "nbformat_minor": 4
}
